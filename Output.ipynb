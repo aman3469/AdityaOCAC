{
 "cells": [
  {
   "cell_type": "code",
   "execution_count": 1,
   "id": "c46e907f-4f1e-4366-a32b-4fa7cfb6c637",
   "metadata": {},
   "outputs": [
    {
     "name": "stdout",
     "output_type": "stream",
     "text": [
      "20\n"
     ]
    }
   ],
   "source": [
    "print(20)"
   ]
  },
  {
   "cell_type": "code",
   "execution_count": 3,
   "id": "569d6821-c9b9-4c1c-b1cd-a578c45cd7ab",
   "metadata": {},
   "outputs": [
    {
     "name": "stdout",
     "output_type": "stream",
     "text": [
      "aditya\n"
     ]
    }
   ],
   "source": [
    "print(\"aditya\")"
   ]
  },
  {
   "cell_type": "code",
   "execution_count": 5,
   "id": "0f3bb41e-c387-493c-8cfc-58db189f30f7",
   "metadata": {},
   "outputs": [
    {
     "name": "stdout",
     "output_type": "stream",
     "text": [
      "welcome to era\n"
     ]
    }
   ],
   "source": [
    "print(\"welcome to era\")"
   ]
  },
  {
   "cell_type": "code",
   "execution_count": 7,
   "id": "292f51cd-3ecb-4179-9114-ed01587520b4",
   "metadata": {},
   "outputs": [
    {
     "name": "stdout",
     "output_type": "stream",
     "text": [
      "30\n"
     ]
    }
   ],
   "source": [
    "b=30\n",
    "print(b)"
   ]
  },
  {
   "cell_type": "code",
   "execution_count": 9,
   "id": "f5d5cd2c-50bb-4cee-b0b9-2ca41df8e6e9",
   "metadata": {},
   "outputs": [
    {
     "name": "stdout",
     "output_type": "stream",
     "text": [
      "100\n"
     ]
    }
   ],
   "source": [
    "adi=100\n",
    "print(adi)"
   ]
  },
  {
   "cell_type": "code",
   "execution_count": 11,
   "id": "88bfe9cc-7689-490a-a905-2504cea97618",
   "metadata": {},
   "outputs": [
    {
     "name": "stdout",
     "output_type": "stream",
     "text": [
      "aditya\n"
     ]
    }
   ],
   "source": [
    "print(\"aditya\")"
   ]
  },
  {
   "cell_type": "code",
   "execution_count": 13,
   "id": "9991fdee-50aa-4a46-8d1a-8d715acf10c8",
   "metadata": {},
   "outputs": [
    {
     "name": "stdout",
     "output_type": "stream",
     "text": [
      "20 30 40 50\n"
     ]
    }
   ],
   "source": [
    "a=20\n",
    "b=30\n",
    "c=40\n",
    "d=50\n",
    "print(a,b,c,d)"
   ]
  },
  {
   "cell_type": "code",
   "execution_count": 15,
   "id": "8a2bf468-03a4-447c-b72f-2cdf58a0d4a7",
   "metadata": {},
   "outputs": [
    {
     "name": "stdout",
     "output_type": "stream",
     "text": [
      "40\n"
     ]
    },
    {
     "data": {
      "text/plain": [
       "int"
      ]
     },
     "execution_count": 15,
     "metadata": {},
     "output_type": "execute_result"
    }
   ],
   "source": [
    "a=40\n",
    "print(a)\n",
    "type(a)"
   ]
  },
  {
   "cell_type": "code",
   "execution_count": 17,
   "id": "a77470c5-95aa-4b3f-a642-f9f5b6d17739",
   "metadata": {},
   "outputs": [
    {
     "name": "stdout",
     "output_type": "stream",
     "text": [
      "300\n"
     ]
    },
    {
     "data": {
      "text/plain": [
       "str"
      ]
     },
     "execution_count": 17,
     "metadata": {},
     "output_type": "execute_result"
    }
   ],
   "source": [
    "b='300'\n",
    "print(b)\n",
    "type(b)"
   ]
  },
  {
   "cell_type": "code",
   "execution_count": 19,
   "id": "5d0ae661-3e78-459a-8b7c-c0f662e40104",
   "metadata": {},
   "outputs": [],
   "source": [
    "#print function in Python 3"
   ]
  },
  {
   "cell_type": "code",
   "execution_count": 21,
   "id": "d3c9e0cc-9df6-48b3-958e-8da4cd1b462e",
   "metadata": {},
   "outputs": [
    {
     "name": "stdout",
     "output_type": "stream",
     "text": [
      "300\n"
     ]
    }
   ],
   "source": [
    "a=100\n",
    "b=200\n",
    "c=a+b\n",
    "print(c)"
   ]
  },
  {
   "cell_type": "code",
   "execution_count": 23,
   "id": "ad5c66c0-cfe9-4db2-81b6-2c36f0ca8b44",
   "metadata": {},
   "outputs": [
    {
     "name": "stdout",
     "output_type": "stream",
     "text": [
      "300\n"
     ]
    }
   ],
   "source": [
    "print(a+b)"
   ]
  },
  {
   "cell_type": "code",
   "execution_count": 25,
   "id": "38489483-6955-4c71-b93a-1476d60c269d",
   "metadata": {},
   "outputs": [
    {
     "name": "stdout",
     "output_type": "stream",
     "text": [
      "110\n"
     ]
    }
   ],
   "source": [
    "print(50+60)"
   ]
  },
  {
   "cell_type": "code",
   "execution_count": 27,
   "id": "5a708364-b24a-42fd-8f2a-7abc418f3a35",
   "metadata": {},
   "outputs": [
    {
     "name": "stdout",
     "output_type": "stream",
     "text": [
      "50 60 70 80\n"
     ]
    }
   ],
   "source": [
    "a=50\n",
    "b=60\n",
    "c=70\n",
    "d=80\n",
    "print(a,b,c,d)"
   ]
  },
  {
   "cell_type": "code",
   "execution_count": 29,
   "id": "da23e340-5649-4dac-aa17-cc644859bd53",
   "metadata": {},
   "outputs": [
    {
     "name": "stdout",
     "output_type": "stream",
     "text": [
      "50:60:70:80\n"
     ]
    }
   ],
   "source": [
    "print(a,b,c,d,sep=\":\")"
   ]
  },
  {
   "cell_type": "code",
   "execution_count": 31,
   "id": "32faa449-626c-4d3c-9cca-b3c68be11d6b",
   "metadata": {},
   "outputs": [
    {
     "name": "stdout",
     "output_type": "stream",
     "text": [
      "The value of b : 60\n"
     ]
    }
   ],
   "source": [
    "print(\"The value of b :\",b)"
   ]
  },
  {
   "cell_type": "code",
   "execution_count": 33,
   "id": "5a23cdcb-1917-4931-bda3-5da72bef91a9",
   "metadata": {},
   "outputs": [],
   "source": [
    "first_name='aditya'\n",
    "last_name='prusty'"
   ]
  },
  {
   "cell_type": "code",
   "execution_count": 35,
   "id": "bb5fc235-0715-4c73-a2e7-6e661f44ce32",
   "metadata": {},
   "outputs": [
    {
     "name": "stdout",
     "output_type": "stream",
     "text": [
      "Name prusty aditya\n"
     ]
    }
   ],
   "source": [
    "print(\"Name\",last_name,first_name)"
   ]
  },
  {
   "cell_type": "code",
   "execution_count": 37,
   "id": "d952d74d-a339-4945-83b8-5dcc762922b0",
   "metadata": {},
   "outputs": [
    {
     "name": "stdout",
     "output_type": "stream",
     "text": [
      "My first name is: aditya and last name is: prusty\n"
     ]
    }
   ],
   "source": [
    "print(\"My first name is:\",first_name,\"and last name is:\",last_name) "
   ]
  },
  {
   "cell_type": "code",
   "execution_count": 39,
   "id": "c3b942ab-4cb9-4754-96d9-e2d9a809da43",
   "metadata": {},
   "outputs": [
    {
     "name": "stdout",
     "output_type": "stream",
     "text": [
      "My first name is: aditya and last name is: prusty\n"
     ]
    }
   ],
   "source": [
    "print(\"My first name is: {} and last name is: {}\".format(first_name,last_name))"
   ]
  },
  {
   "cell_type": "code",
   "execution_count": 43,
   "id": "ac830570-d290-4b4f-9853-731e00a250b0",
   "metadata": {},
   "outputs": [
    {
     "name": "stdout",
     "output_type": "stream",
     "text": [
      "My first name is: aditya and last name is: prusty\n"
     ]
    }
   ],
   "source": [
    "print(\"My first name is: {first} and last name is: {last}\".format(first=first_name,last=last_name))"
   ]
  },
  {
   "cell_type": "code",
   "execution_count": 45,
   "id": "8767eb84-88c2-4b6c-bd96-0ec828f2249e",
   "metadata": {},
   "outputs": [
    {
     "name": "stdout",
     "output_type": "stream",
     "text": [
      "Hello aditya Good Morning aditya\n"
     ]
    }
   ],
   "source": [
    "print(\"Hello {name} {greetings} {name}\".format(name=\"aditya\",greetings=\"Good Morning\"))"
   ]
  },
  {
   "cell_type": "code",
   "execution_count": 47,
   "id": "027c055c-fd9e-4d8e-bc86-cec357b5be37",
   "metadata": {},
   "outputs": [],
   "source": [
    "#we can combine positional arguements withkeyword arguements"
   ]
  },
  {
   "cell_type": "code",
   "execution_count": 49,
   "id": "2eec85b8-953f-4b78-82ee-a07ba2747825",
   "metadata": {},
   "outputs": [
    {
     "name": "stdout",
     "output_type": "stream",
     "text": [
      "The story of Bill, Manfred and George\n"
     ]
    }
   ],
   "source": [
    "print('The story of {}, {} and {other}'.format('Bill','Manfred',other='George'))"
   ]
  },
  {
   "cell_type": "code",
   "execution_count": 51,
   "id": "d0956133-ee76-46f9-907f-a2ae9527e2a9",
   "metadata": {},
   "outputs": [
    {
     "name": "stdout",
     "output_type": "stream",
     "text": [
      "My number is: 22 and my name is: Aditya\n"
     ]
    }
   ],
   "source": [
    "num = 22\n",
    "name = 'Aditya'\n",
    "print('My number is: {one} and my name is: {two}'.format(one=num,two=name))"
   ]
  },
  {
   "cell_type": "code",
   "execution_count": 53,
   "id": "77c0b154-33b7-48c9-9cd8-3ca9a076daa2",
   "metadata": {},
   "outputs": [
    {
     "name": "stdout",
     "output_type": "stream",
     "text": [
      "My number is: 22 and my name is: Aditya\n"
     ]
    }
   ],
   "source": [
    "print('My number is: {} and my name is: {}'.format(num,name))"
   ]
  },
  {
   "cell_type": "code",
   "execution_count": 55,
   "id": "c01e645b-4d3f-4441-a9bd-18034e18b12d",
   "metadata": {},
   "outputs": [
    {
     "name": "stdout",
     "output_type": "stream",
     "text": [
      "My number is: 22 and my name is: Aditya\n"
     ]
    }
   ],
   "source": [
    "print(\"My number is:\" ,num, \"and my name is:\" ,name)"
   ]
  },
  {
   "cell_type": "code",
   "execution_count": null,
   "id": "c6315058-fb2b-460f-a99c-5645421ab232",
   "metadata": {},
   "outputs": [],
   "source": []
  }
 ],
 "metadata": {
  "kernelspec": {
   "display_name": "Python 3 (ipykernel)",
   "language": "python",
   "name": "python3"
  },
  "language_info": {
   "codemirror_mode": {
    "name": "ipython",
    "version": 3
   },
   "file_extension": ".py",
   "mimetype": "text/x-python",
   "name": "python",
   "nbconvert_exporter": "python",
   "pygments_lexer": "ipython3",
   "version": "3.12.4"
  }
 },
 "nbformat": 4,
 "nbformat_minor": 5
}
