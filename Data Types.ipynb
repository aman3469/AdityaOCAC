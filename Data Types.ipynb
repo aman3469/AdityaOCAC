{
 "cells": [
  {
   "cell_type": "code",
   "execution_count": 1,
   "id": "a1c0fb37-5c25-47e1-9342-f5b4eae2af4e",
   "metadata": {},
   "outputs": [],
   "source": [
    "a = 20"
   ]
  },
  {
   "cell_type": "code",
   "execution_count": 3,
   "id": "6bb4293c-42c0-463e-83dc-9e25a05b0216",
   "metadata": {},
   "outputs": [
    {
     "data": {
      "text/plain": [
       "int"
      ]
     },
     "execution_count": 3,
     "metadata": {},
     "output_type": "execute_result"
    }
   ],
   "source": [
    "#To check type : use type()\n",
    "type(a)"
   ]
  },
  {
   "cell_type": "code",
   "execution_count": 5,
   "id": "957b38f8-7e50-4d86-9426-be4dfd88122a",
   "metadata": {},
   "outputs": [
    {
     "data": {
      "text/plain": [
       "float"
      ]
     },
     "execution_count": 5,
     "metadata": {},
     "output_type": "execute_result"
    }
   ],
   "source": [
    "a = 20.0\n",
    "type(a)"
   ]
  },
  {
   "cell_type": "code",
   "execution_count": 7,
   "id": "002befd7-eafe-476e-a196-9e5bebaebc69",
   "metadata": {},
   "outputs": [
    {
     "name": "stdout",
     "output_type": "stream",
     "text": [
      "<class 'int'>\n",
      "<class 'float'>\n"
     ]
    }
   ],
   "source": [
    "a = 30\n",
    "print(type(a))\n",
    "b = 300.0\n",
    "print(type(b))\n"
   ]
  },
  {
   "cell_type": "code",
   "execution_count": 9,
   "id": "d5a98323-ab2a-4285-bf6a-fb985d101e5d",
   "metadata": {},
   "outputs": [
    {
     "data": {
      "text/plain": [
       "80.0"
      ]
     },
     "execution_count": 9,
     "metadata": {},
     "output_type": "execute_result"
    }
   ],
   "source": [
    "a = 30\n",
    "b = 50.0\n",
    "a+b"
   ]
  },
  {
   "cell_type": "code",
   "execution_count": 11,
   "id": "848cc2c4-014b-4195-b995-68ba837f5301",
   "metadata": {},
   "outputs": [
    {
     "data": {
      "text/plain": [
       "6"
      ]
     },
     "execution_count": 11,
     "metadata": {},
     "output_type": "execute_result"
    }
   ],
   "source": [
    "b=6.8\n",
    "int(b)"
   ]
  },
  {
   "cell_type": "code",
   "execution_count": 13,
   "id": "0e9009e0-ca92-47c7-90df-63dd0c44c782",
   "metadata": {},
   "outputs": [
    {
     "data": {
      "text/plain": [
       "26"
      ]
     },
     "execution_count": 13,
     "metadata": {},
     "output_type": "execute_result"
    }
   ],
   "source": [
    "int(26.8765)"
   ]
  },
  {
   "cell_type": "code",
   "execution_count": 15,
   "id": "d6f385be-d21e-446f-b07a-2e41a6fb80ca",
   "metadata": {},
   "outputs": [
    {
     "data": {
      "text/plain": [
       "bool"
      ]
     },
     "execution_count": 15,
     "metadata": {},
     "output_type": "execute_result"
    }
   ],
   "source": [
    "b1 = True\n",
    "type(b1)"
   ]
  },
  {
   "cell_type": "code",
   "execution_count": 21,
   "id": "b0a7bec9-bf37-475e-ac95-8beedc061358",
   "metadata": {},
   "outputs": [
    {
     "data": {
      "text/plain": [
       "bool"
      ]
     },
     "execution_count": 21,
     "metadata": {},
     "output_type": "execute_result"
    }
   ],
   "source": [
    "type(True)"
   ]
  },
  {
   "cell_type": "code",
   "execution_count": 23,
   "id": "78a4b9a5-8d66-4762-8395-4af19c3d6908",
   "metadata": {},
   "outputs": [
    {
     "data": {
      "text/plain": [
       "bool"
      ]
     },
     "execution_count": 23,
     "metadata": {},
     "output_type": "execute_result"
    }
   ],
   "source": [
    "type(False)"
   ]
  },
  {
   "cell_type": "code",
   "execution_count": 25,
   "id": "80ecf0a8-6559-422e-b305-81138e8b28a4",
   "metadata": {},
   "outputs": [
    {
     "data": {
      "text/plain": [
       "1"
      ]
     },
     "execution_count": 25,
     "metadata": {},
     "output_type": "execute_result"
    }
   ],
   "source": [
    "int(True)"
   ]
  },
  {
   "cell_type": "code",
   "execution_count": 27,
   "id": "8ba2b905-d854-4837-b546-1b6da9090998",
   "metadata": {},
   "outputs": [
    {
     "data": {
      "text/plain": [
       "0"
      ]
     },
     "execution_count": 27,
     "metadata": {},
     "output_type": "execute_result"
    }
   ],
   "source": [
    "int(False)"
   ]
  },
  {
   "cell_type": "code",
   "execution_count": 29,
   "id": "a6cfe6a1-5d8b-452e-9e17-131ddd2e7b0e",
   "metadata": {},
   "outputs": [
    {
     "data": {
      "text/plain": [
       "2"
      ]
     },
     "execution_count": 29,
     "metadata": {},
     "output_type": "execute_result"
    }
   ],
   "source": [
    "True+True"
   ]
  },
  {
   "cell_type": "code",
   "execution_count": 31,
   "id": "7f599dd5-906c-4068-ad69-41eaf70f0f4e",
   "metadata": {},
   "outputs": [
    {
     "data": {
      "text/plain": [
       "36.9"
      ]
     },
     "execution_count": 31,
     "metadata": {},
     "output_type": "execute_result"
    }
   ],
   "source": [
    "b=36.9\n",
    "c = False\n",
    "b+c"
   ]
  },
  {
   "cell_type": "code",
   "execution_count": 33,
   "id": "7e7006ff-2f93-429a-85ab-7fac076b84f2",
   "metadata": {},
   "outputs": [],
   "source": [
    "#complex numbers: note the use of j to specify the imaginary part"
   ]
  },
  {
   "cell_type": "code",
   "execution_count": 35,
   "id": "391983b6-73cf-4b72-8043-6e238389dad0",
   "metadata": {},
   "outputs": [],
   "source": [
    "x=20+40j"
   ]
  },
  {
   "cell_type": "code",
   "execution_count": 37,
   "id": "f7cc0ace-eed6-4dd2-aa1a-489d756d0402",
   "metadata": {},
   "outputs": [
    {
     "data": {
      "text/plain": [
       "complex"
      ]
     },
     "execution_count": 37,
     "metadata": {},
     "output_type": "execute_result"
    }
   ],
   "source": [
    "type(x)"
   ]
  },
  {
   "cell_type": "code",
   "execution_count": 39,
   "id": "5491667f-873a-4020-85c0-bf6dcbb16acd",
   "metadata": {},
   "outputs": [],
   "source": [
    "#to get real value"
   ]
  },
  {
   "cell_type": "code",
   "execution_count": 41,
   "id": "c307d5d2-55b3-4635-a25b-2e5ac67f5ab6",
   "metadata": {},
   "outputs": [
    {
     "data": {
      "text/plain": [
       "20.0"
      ]
     },
     "execution_count": 41,
     "metadata": {},
     "output_type": "execute_result"
    }
   ],
   "source": [
    "x.real"
   ]
  },
  {
   "cell_type": "code",
   "execution_count": 43,
   "id": "381477f0-01a9-487e-949c-b152cfa494d7",
   "metadata": {},
   "outputs": [],
   "source": [
    "#to get imaginary value"
   ]
  },
  {
   "cell_type": "code",
   "execution_count": 45,
   "id": "344b3b62-0898-418b-961e-abf815db89b5",
   "metadata": {},
   "outputs": [
    {
     "data": {
      "text/plain": [
       "40.0"
      ]
     },
     "execution_count": 45,
     "metadata": {},
     "output_type": "execute_result"
    }
   ],
   "source": [
    "x.imag"
   ]
  },
  {
   "cell_type": "code",
   "execution_count": 47,
   "id": "815a3f4d-4a6b-42be-ab0a-56196f0e8bfb",
   "metadata": {},
   "outputs": [
    {
     "data": {
      "text/plain": [
       "40"
      ]
     },
     "execution_count": 47,
     "metadata": {},
     "output_type": "execute_result"
    }
   ],
   "source": [
    "int(x.imag)"
   ]
  },
  {
   "cell_type": "code",
   "execution_count": 49,
   "id": "d50e919f-1481-4fd7-b311-9888d80f8094",
   "metadata": {},
   "outputs": [
    {
     "name": "stdout",
     "output_type": "stream",
     "text": [
      "20.0 40.0\n"
     ]
    }
   ],
   "source": [
    "print(x.real,x.imag)"
   ]
  },
  {
   "cell_type": "code",
   "execution_count": 51,
   "id": "05aeff33-1917-45f8-8225-f13a11ab1265",
   "metadata": {},
   "outputs": [
    {
     "name": "stdout",
     "output_type": "stream",
     "text": [
      "Hello\n",
      "Hello\n",
      "Hello\n"
     ]
    }
   ],
   "source": [
    "myString1 = 'Hello'\n",
    "print(myString1)\n",
    "myString2 = \"Hello\"\n",
    "print(myString2)\n",
    "myString3 = '''Hello'''\n",
    "print(myString3)"
   ]
  },
  {
   "cell_type": "code",
   "execution_count": 53,
   "id": "5415c058-7c02-422e-8ed9-70c79c027067",
   "metadata": {},
   "outputs": [
    {
     "data": {
      "text/plain": [
       "str"
      ]
     },
     "execution_count": 53,
     "metadata": {},
     "output_type": "execute_result"
    }
   ],
   "source": [
    "c='Adi'\n",
    "type(c)"
   ]
  },
  {
   "cell_type": "code",
   "execution_count": 55,
   "id": "fae23ad9-58ee-4596-983a-ed13dec0ccfa",
   "metadata": {},
   "outputs": [
    {
     "ename": "ValueError",
     "evalue": "invalid literal for int() with base 10: 'Adi'",
     "output_type": "error",
     "traceback": [
      "\u001b[1;31m---------------------------------------------------------------------------\u001b[0m",
      "\u001b[1;31mValueError\u001b[0m                                Traceback (most recent call last)",
      "Cell \u001b[1;32mIn[55], line 1\u001b[0m\n\u001b[1;32m----> 1\u001b[0m \u001b[38;5;28mint\u001b[39m(c)\n",
      "\u001b[1;31mValueError\u001b[0m: invalid literal for int() with base 10: 'Adi'"
     ]
    }
   ],
   "source": [
    "int(c)"
   ]
  },
  {
   "cell_type": "code",
   "execution_count": 57,
   "id": "e328c7e8-ae2f-4c09-8b9b-071711e1fb79",
   "metadata": {},
   "outputs": [
    {
     "data": {
      "text/plain": [
       "str"
      ]
     },
     "execution_count": 57,
     "metadata": {},
     "output_type": "execute_result"
    }
   ],
   "source": [
    "type(\"Adi\")"
   ]
  },
  {
   "cell_type": "code",
   "execution_count": 59,
   "id": "c4ba9862-8eb4-4d85-9068-d6d9698954b4",
   "metadata": {},
   "outputs": [
    {
     "data": {
      "text/plain": [
       "str"
      ]
     },
     "execution_count": 59,
     "metadata": {},
     "output_type": "execute_result"
    }
   ],
   "source": [
    "var = \"7654321\"\n",
    "type(var)"
   ]
  },
  {
   "cell_type": "code",
   "execution_count": 61,
   "id": "3f094cc2-6db0-4338-9186-a0d789114b24",
   "metadata": {},
   "outputs": [
    {
     "data": {
      "text/plain": [
       "'7654321'"
      ]
     },
     "execution_count": 61,
     "metadata": {},
     "output_type": "execute_result"
    }
   ],
   "source": [
    "var"
   ]
  },
  {
   "cell_type": "code",
   "execution_count": 63,
   "id": "c966f317-e825-4aa0-abfe-3fbbba0224c3",
   "metadata": {},
   "outputs": [
    {
     "data": {
      "text/plain": [
       "7654321"
      ]
     },
     "execution_count": 63,
     "metadata": {},
     "output_type": "execute_result"
    }
   ],
   "source": [
    "z=int(var)\n",
    "z"
   ]
  },
  {
   "cell_type": "code",
   "execution_count": 65,
   "id": "aff5630f-5828-4c5a-9b05-3e398516fab2",
   "metadata": {},
   "outputs": [
    {
     "data": {
      "text/plain": [
       "'me@4321'"
      ]
     },
     "execution_count": 65,
     "metadata": {},
     "output_type": "execute_result"
    }
   ],
   "source": [
    "d='me@4321'\n",
    "d"
   ]
  },
  {
   "cell_type": "code",
   "execution_count": 67,
   "id": "2fbda7fd-890a-41aa-9cc6-9d1eafb6edfc",
   "metadata": {},
   "outputs": [
    {
     "ename": "ValueError",
     "evalue": "invalid literal for int() with base 10: 'me@4321'",
     "output_type": "error",
     "traceback": [
      "\u001b[1;31m---------------------------------------------------------------------------\u001b[0m",
      "\u001b[1;31mValueError\u001b[0m                                Traceback (most recent call last)",
      "Cell \u001b[1;32mIn[67], line 1\u001b[0m\n\u001b[1;32m----> 1\u001b[0m \u001b[38;5;28mint\u001b[39m(d)\n",
      "\u001b[1;31mValueError\u001b[0m: invalid literal for int() with base 10: 'me@4321'"
     ]
    }
   ],
   "source": [
    "int(d)"
   ]
  },
  {
   "cell_type": "code",
   "execution_count": 69,
   "id": "7ac8cef1-8c29-46f1-8f69-dc7fe82498b1",
   "metadata": {},
   "outputs": [],
   "source": [
    "e='9876'"
   ]
  },
  {
   "cell_type": "code",
   "execution_count": 71,
   "id": "45ff85e1-a128-4a0e-9810-4bcef55b93f3",
   "metadata": {},
   "outputs": [
    {
     "data": {
      "text/plain": [
       "9876"
      ]
     },
     "execution_count": 71,
     "metadata": {},
     "output_type": "execute_result"
    }
   ],
   "source": [
    "int(e)"
   ]
  },
  {
   "cell_type": "code",
   "execution_count": 73,
   "id": "1df6bc9f-1ac8-47f4-b560-fcfff453948a",
   "metadata": {},
   "outputs": [
    {
     "name": "stdout",
     "output_type": "stream",
     "text": [
      "aman\"lappy\"\n"
     ]
    }
   ],
   "source": [
    "print('aman\"lappy\"')"
   ]
  },
  {
   "cell_type": "code",
   "execution_count": 77,
   "id": "4bf181ed-dbae-48cc-af56-0417a60123e8",
   "metadata": {},
   "outputs": [
    {
     "ename": "SyntaxError",
     "evalue": "unterminated string literal (detected at line 1) (2561865468.py, line 1)",
     "output_type": "error",
     "traceback": [
      "\u001b[1;36m  Cell \u001b[1;32mIn[77], line 1\u001b[1;36m\u001b[0m\n\u001b[1;33m    print('aman's \"lappy\"')\u001b[0m\n\u001b[1;37m                         ^\u001b[0m\n\u001b[1;31mSyntaxError\u001b[0m\u001b[1;31m:\u001b[0m unterminated string literal (detected at line 1)\n"
     ]
    }
   ],
   "source": [
    "print('aman's \"lappy\"')"
   ]
  },
  {
   "cell_type": "code",
   "execution_count": 79,
   "id": "9eb47df2-10ee-450c-8bd0-977c83cdd2a3",
   "metadata": {},
   "outputs": [
    {
     "name": "stdout",
     "output_type": "stream",
     "text": [
      "aman's\"lappy\"\n"
     ]
    }
   ],
   "source": [
    "print('aman\\'s\"lappy\"')"
   ]
  },
  {
   "cell_type": "code",
   "execution_count": 81,
   "id": "14b19914-a38f-475f-8ec1-43322330a2e0",
   "metadata": {},
   "outputs": [
    {
     "data": {
      "text/plain": [
       "'604'"
      ]
     },
     "execution_count": 81,
     "metadata": {},
     "output_type": "execute_result"
    }
   ],
   "source": [
    "a=\"60\"\n",
    "b=\"4\"\n",
    "#concatenation of 2 strings\n",
    "a+b"
   ]
  },
  {
   "cell_type": "code",
   "execution_count": 83,
   "id": "d45706a2-5e8c-46af-939a-c0ec5acbbf67",
   "metadata": {},
   "outputs": [
    {
     "data": {
      "text/plain": [
       "604"
      ]
     },
     "execution_count": 83,
     "metadata": {},
     "output_type": "execute_result"
    }
   ],
   "source": [
    "int(a+b)"
   ]
  },
  {
   "cell_type": "code",
   "execution_count": 85,
   "id": "8d892386-f03c-448b-a15e-c34bb1ac4fef",
   "metadata": {},
   "outputs": [
    {
     "data": {
      "text/plain": [
       "64"
      ]
     },
     "execution_count": 85,
     "metadata": {},
     "output_type": "execute_result"
    }
   ],
   "source": [
    "int(a)+int(b)"
   ]
  },
  {
   "cell_type": "code",
   "execution_count": 87,
   "id": "453719b3-253b-4c4c-8e53-c913bf01e2b5",
   "metadata": {},
   "outputs": [
    {
     "ename": "TypeError",
     "evalue": "unsupported operand type(s) for +: 'int' and 'str'",
     "output_type": "error",
     "traceback": [
      "\u001b[1;31m---------------------------------------------------------------------------\u001b[0m",
      "\u001b[1;31mTypeError\u001b[0m                                 Traceback (most recent call last)",
      "Cell \u001b[1;32mIn[87], line 3\u001b[0m\n\u001b[0;32m      1\u001b[0m d\u001b[38;5;241m=\u001b[39m\u001b[38;5;124m'\u001b[39m\u001b[38;5;124m6\u001b[39m\u001b[38;5;124m'\u001b[39m\n\u001b[0;32m      2\u001b[0m a\u001b[38;5;241m=\u001b[39m\u001b[38;5;241m9\u001b[39m\n\u001b[1;32m----> 3\u001b[0m a\u001b[38;5;241m+\u001b[39md\n",
      "\u001b[1;31mTypeError\u001b[0m: unsupported operand type(s) for +: 'int' and 'str'"
     ]
    }
   ],
   "source": [
    "d='6'\n",
    "a=9\n",
    "a+d"
   ]
  },
  {
   "cell_type": "code",
   "execution_count": 89,
   "id": "cf15462d-abcb-46c4-8949-d5c3d20b0760",
   "metadata": {},
   "outputs": [
    {
     "data": {
      "text/plain": [
       "15"
      ]
     },
     "execution_count": 89,
     "metadata": {},
     "output_type": "execute_result"
    }
   ],
   "source": [
    "int(d)+a"
   ]
  },
  {
   "cell_type": "code",
   "execution_count": 91,
   "id": "8cc3e88d-bdc2-42d5-b16b-10bbef033d5c",
   "metadata": {},
   "outputs": [
    {
     "data": {
      "text/plain": [
       "69"
      ]
     },
     "execution_count": 91,
     "metadata": {},
     "output_type": "execute_result"
    }
   ],
   "source": [
    "int(d+str(a))"
   ]
  },
  {
   "cell_type": "code",
   "execution_count": 93,
   "id": "ce8d8466-69b3-48b2-a1a7-46eb5443f338",
   "metadata": {},
   "outputs": [],
   "source": [
    "a=\"adi\"\n",
    "b=456"
   ]
  },
  {
   "cell_type": "code",
   "execution_count": 95,
   "id": "1c8da7a2-a432-4fe2-8624-8c83b7b36171",
   "metadata": {},
   "outputs": [
    {
     "name": "stdout",
     "output_type": "stream",
     "text": [
      "adi456\n"
     ]
    }
   ],
   "source": [
    "print(a+str(b))"
   ]
  },
  {
   "cell_type": "code",
   "execution_count": 97,
   "id": "dcb9ef4a-6fbc-4872-9a9c-2a4feff03d42",
   "metadata": {},
   "outputs": [
    {
     "data": {
      "text/plain": [
       "'adityaaditya'"
      ]
     },
     "execution_count": 97,
     "metadata": {},
     "output_type": "execute_result"
    }
   ],
   "source": [
    "'aditya'+'aditya'"
   ]
  },
  {
   "cell_type": "code",
   "execution_count": 99,
   "id": "f4ff85e3-1911-4540-bb81-2b4dfb3bc6b9",
   "metadata": {},
   "outputs": [
    {
     "data": {
      "text/plain": [
       "'adityaadityaadityaadityaadityaadityaadityaaditya'"
      ]
     },
     "execution_count": 99,
     "metadata": {},
     "output_type": "execute_result"
    }
   ],
   "source": [
    "\"aditya\"*8"
   ]
  },
  {
   "cell_type": "code",
   "execution_count": 103,
   "id": "8dd0df23-55c8-4b06-89b8-ff8461f8f2e4",
   "metadata": {},
   "outputs": [],
   "source": [
    "user=\"aditya\"\n",
    "lines=105"
   ]
  },
  {
   "cell_type": "code",
   "execution_count": 105,
   "id": "93bddd67-2a3d-48e4-9835-bc28841e4696",
   "metadata": {},
   "outputs": [
    {
     "name": "stdout",
     "output_type": "stream",
     "text": [
      "Congratulations, aditya ! You just wrote 105 lines of code\n"
     ]
    }
   ],
   "source": [
    "print(\"Congratulations,\",user,\"! You just wrote\",lines,\"lines of code\")"
   ]
  },
  {
   "cell_type": "code",
   "execution_count": 109,
   "id": "b0bfabc3-1abd-4387-b681-33e51c03f8ae",
   "metadata": {},
   "outputs": [
    {
     "name": "stdout",
     "output_type": "stream",
     "text": [
      "Congratulations,aditya! You just wrote 105 lines of code\n"
     ]
    }
   ],
   "source": [
    "print(\"Congratulations,\"+user+\"! You just wrote \"+str(lines)+\" lines of code\")"
   ]
  },
  {
   "cell_type": "code",
   "execution_count": 111,
   "id": "800659f8-96ed-42e7-94ef-d9029ecec91d",
   "metadata": {},
   "outputs": [
    {
     "data": {
      "text/plain": [
       "34"
      ]
     },
     "execution_count": 111,
     "metadata": {},
     "output_type": "execute_result"
    }
   ],
   "source": [
    "e = 'This is more interesting than that'\n",
    "len(e)"
   ]
  },
  {
   "cell_type": "code",
   "execution_count": 113,
   "id": "ba8f962f-dbf8-4d62-af53-e016a633c5cf",
   "metadata": {},
   "outputs": [
    {
     "ename": "NameError",
     "evalue": "name 'e' is not defined",
     "output_type": "error",
     "traceback": [
      "\u001b[1;31m---------------------------------------------------------------------------\u001b[0m",
      "\u001b[1;31mNameError\u001b[0m                                 Traceback (most recent call last)",
      "Cell \u001b[1;32mIn[113], line 3\u001b[0m\n\u001b[0;32m      1\u001b[0m \u001b[38;5;66;03m#delete complete string\u001b[39;00m\n\u001b[0;32m      2\u001b[0m \u001b[38;5;28;01mdel\u001b[39;00m e\n\u001b[1;32m----> 3\u001b[0m \u001b[38;5;28mprint\u001b[39m(e)\n",
      "\u001b[1;31mNameError\u001b[0m: name 'e' is not defined"
     ]
    }
   ],
   "source": [
    "#delete complete string\n",
    "del e\n",
    "print(e)"
   ]
  },
  {
   "cell_type": "code",
   "execution_count": 115,
   "id": "1654b622-d20e-42f8-a053-6d67a17cf4a2",
   "metadata": {},
   "outputs": [],
   "source": [
    "myString = \"Hello\""
   ]
  },
  {
   "cell_type": "code",
   "execution_count": 117,
   "id": "abf3e17b-16b9-43ff-8663-56c449b76a85",
   "metadata": {},
   "outputs": [
    {
     "name": "stdout",
     "output_type": "stream",
     "text": [
      "H\n"
     ]
    }
   ],
   "source": [
    "#print firts character\n",
    "print(myString[0])"
   ]
  },
  {
   "cell_type": "code",
   "execution_count": 119,
   "id": "d7821120-cb40-4e2d-a500-0a5658bd3aad",
   "metadata": {},
   "outputs": [
    {
     "name": "stdout",
     "output_type": "stream",
     "text": [
      "o\n"
     ]
    }
   ],
   "source": [
    "#last char d[len(d)-1] or d[-1]\n",
    "print(myString[-1])"
   ]
  },
  {
   "cell_type": "code",
   "execution_count": 121,
   "id": "76735f06-8e8e-49da-9e2d-fe7ffdc183c0",
   "metadata": {},
   "outputs": [
    {
     "name": "stdout",
     "output_type": "stream",
     "text": [
      "l\n"
     ]
    }
   ],
   "source": [
    "print(myString[-3])"
   ]
  },
  {
   "cell_type": "code",
   "execution_count": 123,
   "id": "0d1f2955-8a40-4977-bc7d-5cdf412b2a50",
   "metadata": {},
   "outputs": [
    {
     "ename": "IndexError",
     "evalue": "string index out of range",
     "output_type": "error",
     "traceback": [
      "\u001b[1;31m---------------------------------------------------------------------------\u001b[0m",
      "\u001b[1;31mIndexError\u001b[0m                                Traceback (most recent call last)",
      "Cell \u001b[1;32mIn[123], line 2\u001b[0m\n\u001b[0;32m      1\u001b[0m \u001b[38;5;66;03m#If we try to access index with out of the range, we will get index error\u001b[39;00m\n\u001b[1;32m----> 2\u001b[0m \u001b[38;5;28mprint\u001b[39m(myString[\u001b[38;5;241m5\u001b[39m])\n",
      "\u001b[1;31mIndexError\u001b[0m: string index out of range"
     ]
    }
   ],
   "source": [
    "#If we try to access index with out of the range, we will get index error\n",
    "print(myString[5])"
   ]
  },
  {
   "cell_type": "code",
   "execution_count": 125,
   "id": "152a0fc4-4e2d-40d2-91a5-422bdedb2e0c",
   "metadata": {},
   "outputs": [
    {
     "ename": "TypeError",
     "evalue": "string indices must be integers, not 'float'",
     "output_type": "error",
     "traceback": [
      "\u001b[1;31m---------------------------------------------------------------------------\u001b[0m",
      "\u001b[1;31mTypeError\u001b[0m                                 Traceback (most recent call last)",
      "Cell \u001b[1;32mIn[125], line 2\u001b[0m\n\u001b[0;32m      1\u001b[0m \u001b[38;5;66;03m#If we try to access by using use decimal number,we will get errors.\u001b[39;00m\n\u001b[1;32m----> 2\u001b[0m \u001b[38;5;28mprint\u001b[39m(myString[\u001b[38;5;241m1.5\u001b[39m])\n",
      "\u001b[1;31mTypeError\u001b[0m: string indices must be integers, not 'float'"
     ]
    }
   ],
   "source": [
    "#If we try to access by using use decimal number,we will get errors.\n",
    "print(myString[1.5])"
   ]
  },
  {
   "cell_type": "code",
   "execution_count": 127,
   "id": "f4dc326a-dd5f-465e-abb4-79a7c4add6db",
   "metadata": {},
   "outputs": [
    {
     "ename": "TypeError",
     "evalue": "'str' object does not support item assignment",
     "output_type": "error",
     "traceback": [
      "\u001b[1;31m---------------------------------------------------------------------------\u001b[0m",
      "\u001b[1;31mTypeError\u001b[0m                                 Traceback (most recent call last)",
      "Cell \u001b[1;32mIn[127], line 5\u001b[0m\n\u001b[0;32m      1\u001b[0m \u001b[38;5;66;03m#Strings are immutable.This means that elements of a string acnnot be changed once it has been assigned.\u001b[39;00m\n\u001b[0;32m      2\u001b[0m \u001b[38;5;66;03m#We can simply reassign different strings to the same name\u001b[39;00m\n\u001b[0;32m      4\u001b[0m myString\u001b[38;5;241m=\u001b[39m\u001b[38;5;124m\"\u001b[39m\u001b[38;5;124mHello\u001b[39m\u001b[38;5;124m\"\u001b[39m\n\u001b[1;32m----> 5\u001b[0m myString[\u001b[38;5;241m4\u001b[39m]\u001b[38;5;241m=\u001b[39m\u001b[38;5;124m'\u001b[39m\u001b[38;5;124ms\u001b[39m\u001b[38;5;124m'\u001b[39m\n",
      "\u001b[1;31mTypeError\u001b[0m: 'str' object does not support item assignment"
     ]
    }
   ],
   "source": [
    "#Strings are immutable.This means that elements of a string acnnot be changed once it has been assigned.\n",
    "#We can simply reassign different strings to the same name\n",
    "\n",
    "myString=\"Hello\"\n",
    "myString[4]='s' #strings are immutable"
   ]
  },
  {
   "cell_type": "code",
   "execution_count": 131,
   "id": "06435dee-3978-449a-a117-2ee5c672a68f",
   "metadata": {},
   "outputs": [
    {
     "name": "stdout",
     "output_type": "stream",
     "text": [
      "ell\n"
     ]
    }
   ],
   "source": [
    "#slicing 2nd to 5th character(start to end-1 index)\n",
    "print(myString[1:4])"
   ]
  },
  {
   "cell_type": "code",
   "execution_count": 135,
   "id": "dae8cf59-0d3c-4e1d-a7c7-26892c2911ad",
   "metadata": {},
   "outputs": [
    {
     "name": "stdout",
     "output_type": "stream",
     "text": [
      "Hello\n"
     ]
    }
   ],
   "source": [
    "print(myString[0:5])"
   ]
  },
  {
   "cell_type": "code",
   "execution_count": 137,
   "id": "968d96f0-fe81-4545-9e1e-0d75813ad6c3",
   "metadata": {},
   "outputs": [
    {
     "data": {
      "text/plain": [
       "'lo'"
      ]
     },
     "execution_count": 137,
     "metadata": {},
     "output_type": "execute_result"
    }
   ],
   "source": [
    "#slicing(start to all)\n",
    "myString[3: ]"
   ]
  },
  {
   "cell_type": "code",
   "execution_count": 139,
   "id": "a38cc98f-5892-4db0-8acb-528e42088248",
   "metadata": {},
   "outputs": [
    {
     "data": {
      "text/plain": [
       "'Hello'"
      ]
     },
     "execution_count": 139,
     "metadata": {},
     "output_type": "execute_result"
    }
   ],
   "source": [
    "myString[:5]"
   ]
  },
  {
   "cell_type": "code",
   "execution_count": 141,
   "id": "cb3b8029-42ee-4d43-a75d-81858e145d08",
   "metadata": {},
   "outputs": [
    {
     "data": {
      "text/plain": [
       "'Hello'"
      ]
     },
     "execution_count": 141,
     "metadata": {},
     "output_type": "execute_result"
    }
   ],
   "source": [
    "myString[:]"
   ]
  },
  {
   "cell_type": "code",
   "execution_count": 143,
   "id": "88db4237-4758-466d-b29e-49280e616b4c",
   "metadata": {},
   "outputs": [
    {
     "data": {
      "text/plain": [
       "'Hello'"
      ]
     },
     "execution_count": 143,
     "metadata": {},
     "output_type": "execute_result"
    }
   ],
   "source": [
    "myString"
   ]
  },
  {
   "cell_type": "code",
   "execution_count": 145,
   "id": "60813b26-1bbc-47ca-b80c-bdc9e883e388",
   "metadata": {},
   "outputs": [
    {
     "data": {
      "text/plain": [
       "''"
      ]
     },
     "execution_count": 145,
     "metadata": {},
     "output_type": "execute_result"
    }
   ],
   "source": [
    "myString[4:1]"
   ]
  },
  {
   "cell_type": "code",
   "execution_count": 147,
   "id": "7cd1f951-b22d-402d-82a8-aba2b3358bf5",
   "metadata": {},
   "outputs": [
    {
     "data": {
      "text/plain": [
       "'Hlo'"
      ]
     },
     "execution_count": 147,
     "metadata": {},
     "output_type": "execute_result"
    }
   ],
   "source": [
    "myString[ : :2]"
   ]
  },
  {
   "cell_type": "code",
   "execution_count": 149,
   "id": "16a0c8a3-02b3-45a7-99de-fc19a0517c71",
   "metadata": {},
   "outputs": [
    {
     "data": {
      "text/plain": [
       "'oll'"
      ]
     },
     "execution_count": 149,
     "metadata": {},
     "output_type": "execute_result"
    }
   ],
   "source": [
    "myString[-1:-4:-1]"
   ]
  },
  {
   "cell_type": "code",
   "execution_count": 153,
   "id": "08e8cf1c-39b2-4f87-bb4b-1a3828255fe1",
   "metadata": {},
   "outputs": [
    {
     "data": {
      "text/plain": [
       "'olleH'"
      ]
     },
     "execution_count": 153,
     "metadata": {},
     "output_type": "execute_result"
    }
   ],
   "source": [
    "myString[::-1]"
   ]
  },
  {
   "cell_type": "code",
   "execution_count": 155,
   "id": "8578ae81-f4ce-441d-8e58-a6703f0ba9d6",
   "metadata": {},
   "outputs": [
    {
     "data": {
      "text/plain": [
       "'Good morning'"
      ]
     },
     "execution_count": 155,
     "metadata": {},
     "output_type": "execute_result"
    }
   ],
   "source": [
    "#capitalise only first letter and remaining all to small\n",
    "\"good morning\".capitalize()"
   ]
  },
  {
   "cell_type": "code",
   "execution_count": 157,
   "id": "e79f6bbc-1d87-47b6-84d0-c8f066df47b1",
   "metadata": {},
   "outputs": [
    {
     "data": {
      "text/plain": [
       "'Good morning.welcome'"
      ]
     },
     "execution_count": 157,
     "metadata": {},
     "output_type": "execute_result"
    }
   ],
   "source": [
    "\"good morning.welcome\".capitalize()"
   ]
  },
  {
   "cell_type": "code",
   "execution_count": 163,
   "id": "60a4f1ab-baf6-4666-a1e8-63485efb4cd1",
   "metadata": {},
   "outputs": [
    {
     "data": {
      "text/plain": [
       "'Good Morning'"
      ]
     },
     "execution_count": 163,
     "metadata": {},
     "output_type": "execute_result"
    }
   ],
   "source": [
    "#Capitalize first letter of each word and reamining all to small\n",
    "a = \"gOoD MoRnInG\"\n",
    "a.title()"
   ]
  },
  {
   "cell_type": "code",
   "execution_count": 161,
   "id": "cd846dc6-1b03-47c5-805a-42e1a3935caa",
   "metadata": {},
   "outputs": [
    {
     "data": {
      "text/plain": [
       "'Good Morning'"
      ]
     },
     "execution_count": 161,
     "metadata": {},
     "output_type": "execute_result"
    }
   ],
   "source": [
    "\"gOOd moRning\".title()"
   ]
  },
  {
   "cell_type": "code",
   "execution_count": 167,
   "id": "d1a3a7d8-2b48-4fd5-83a6-398665db20ea",
   "metadata": {},
   "outputs": [
    {
     "data": {
      "text/plain": [
       "'GOOD MORNING'"
      ]
     },
     "execution_count": 167,
     "metadata": {},
     "output_type": "execute_result"
    }
   ],
   "source": [
    "#convert complete string to upper case\n",
    "a.upper()"
   ]
  },
  {
   "cell_type": "code",
   "execution_count": 169,
   "id": "cdb43161-f432-47fa-bbb2-4c6d7c4fb267",
   "metadata": {},
   "outputs": [
    {
     "data": {
      "text/plain": [
       "'good morning'"
      ]
     },
     "execution_count": 169,
     "metadata": {},
     "output_type": "execute_result"
    }
   ],
   "source": [
    "#convert complete string to lower case\n",
    "a.lower()"
   ]
  },
  {
   "cell_type": "code",
   "execution_count": 171,
   "id": "b4ada18d-36ae-4abb-ba15-aa73b5afebc1",
   "metadata": {},
   "outputs": [
    {
     "data": {
      "text/plain": [
       "['hello', 'my', 'name', 'is', 'Sam']"
      ]
     },
     "execution_count": 171,
     "metadata": {},
     "output_type": "execute_result"
    }
   ],
   "source": [
    "#split with space\n",
    "st = 'hello my name is Sam'\n",
    "st.split(' ')"
   ]
  },
  {
   "cell_type": "code",
   "execution_count": 173,
   "id": "384ffe00-0413-46e1-bfdf-cd0887b97a5d",
   "metadata": {},
   "outputs": [
    {
     "data": {
      "text/plain": [
       "['Go Sports! ', ' Sports']"
      ]
     },
     "execution_count": 173,
     "metadata": {},
     "output_type": "execute_result"
    }
   ],
   "source": [
    "tweet = 'Go Sports! # Sports'\n",
    "tweet.split('#')"
   ]
  },
  {
   "cell_type": "code",
   "execution_count": 177,
   "id": "214fef26-0b68-46ed-b1dd-55104b3c63c8",
   "metadata": {},
   "outputs": [
    {
     "data": {
      "text/plain": [
       "['A', 'Quick', 'Brown', 'Fox', 'Jumps', 'Over', 'The', 'Lazy', 'Dog']"
      ]
     },
     "execution_count": 177,
     "metadata": {},
     "output_type": "execute_result"
    }
   ],
   "source": [
    "\"A Quick Brown Fox Jumps Over The Lazy Dog\".split()"
   ]
  },
  {
   "cell_type": "code",
   "execution_count": 179,
   "id": "d6972e8f-ff1b-45b4-9b28-cea7538789b4",
   "metadata": {},
   "outputs": [
    {
     "data": {
      "text/plain": [
       "'This will split all words in a list'"
      ]
     },
     "execution_count": 179,
     "metadata": {},
     "output_type": "execute_result"
    }
   ],
   "source": [
    "' '.join(['This','will','split','all','words','in','a','list'])"
   ]
  },
  {
   "cell_type": "code",
   "execution_count": 183,
   "id": "8b79e83c-e945-40c4-bc88-87cdfbcb58ac",
   "metadata": {},
   "outputs": [
    {
     "data": {
      "text/plain": [
       "6"
      ]
     },
     "execution_count": 183,
     "metadata": {},
     "output_type": "execute_result"
    }
   ],
   "source": [
    "#To find a string in the input string\n",
    "\"Good Afternoon\".find(\"f\")\n",
    "#it returns the index position of string if available\n",
    "#it returns -1 if not available"
   ]
  },
  {
   "cell_type": "code",
   "execution_count": 185,
   "id": "f3dade2a-0408-4266-93dc-51cfcfd33a62",
   "metadata": {},
   "outputs": [
    {
     "data": {
      "text/plain": [
       "4"
      ]
     },
     "execution_count": 185,
     "metadata": {},
     "output_type": "execute_result"
    }
   ],
   "source": [
    "#to count how many times the string available in the main string\n",
    "\"Good Afternoon\".count(\"o\")"
   ]
  },
  {
   "cell_type": "code",
   "execution_count": 189,
   "id": "562eeaaa-3006-4ed1-82db-67b92da1e926",
   "metadata": {},
   "outputs": [],
   "source": [
    "#to replace the old string with new string\n",
    "s1 = \"Good Afternoon\"\n",
    "s2 = s1.replace(\"Good\",\"Exicited\")"
   ]
  },
  {
   "cell_type": "code",
   "execution_count": 191,
   "id": "5cd82e53-1b6f-40ba-8a00-9f4f87f5e956",
   "metadata": {},
   "outputs": [
    {
     "data": {
      "text/plain": [
       "'Good Afternoon'"
      ]
     },
     "execution_count": 191,
     "metadata": {},
     "output_type": "execute_result"
    }
   ],
   "source": [
    "s1"
   ]
  },
  {
   "cell_type": "code",
   "execution_count": 193,
   "id": "8c4f4ac8-fb4f-48e8-a3fb-228ac8f40dc2",
   "metadata": {},
   "outputs": [
    {
     "data": {
      "text/plain": [
       "'Exicited Afternoon'"
      ]
     },
     "execution_count": 193,
     "metadata": {},
     "output_type": "execute_result"
    }
   ],
   "source": [
    "s2"
   ]
  },
  {
   "cell_type": "code",
   "execution_count": null,
   "id": "6d82bc7b-b29c-4301-90af-5bdeff99cf92",
   "metadata": {},
   "outputs": [],
   "source": []
  }
 ],
 "metadata": {
  "kernelspec": {
   "display_name": "Python 3 (ipykernel)",
   "language": "python",
   "name": "python3"
  },
  "language_info": {
   "codemirror_mode": {
    "name": "ipython",
    "version": 3
   },
   "file_extension": ".py",
   "mimetype": "text/x-python",
   "name": "python",
   "nbconvert_exporter": "python",
   "pygments_lexer": "ipython3",
   "version": "3.12.4"
  }
 },
 "nbformat": 4,
 "nbformat_minor": 5
}
