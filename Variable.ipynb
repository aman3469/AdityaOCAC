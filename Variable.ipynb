{
 "cells": [
  {
   "cell_type": "code",
   "execution_count": 1,
   "id": "1d14a0b6-f4d8-4257-8708-285e126de8a2",
   "metadata": {},
   "outputs": [],
   "source": [
    "a ='NETFLIX'"
   ]
  },
  {
   "cell_type": "code",
   "execution_count": 3,
   "id": "9e62a533-e6aa-4d52-a163-7c073cd82488",
   "metadata": {},
   "outputs": [
    {
     "data": {
      "text/plain": [
       "'NETFLIX'"
      ]
     },
     "execution_count": 3,
     "metadata": {},
     "output_type": "execute_result"
    }
   ],
   "source": [
    "a"
   ]
  },
  {
   "cell_type": "code",
   "execution_count": null,
   "id": "2bd3a846-2781-4e1f-8b29-3124dfa2c144",
   "metadata": {},
   "outputs": [],
   "source": [
    "#single variable assignment"
   ]
  },
  {
   "cell_type": "code",
   "execution_count": 5,
   "id": "02e773e1-b996-4f20-9be5-41dea068cbfd",
   "metadata": {},
   "outputs": [
    {
     "data": {
      "text/plain": [
       "40"
      ]
     },
     "execution_count": 5,
     "metadata": {},
     "output_type": "execute_result"
    }
   ],
   "source": [
    "b = 40\n",
    "b"
   ]
  },
  {
   "cell_type": "code",
   "execution_count": 7,
   "id": "42c78670-6c69-407a-9e98-5248685b709d",
   "metadata": {},
   "outputs": [
    {
     "data": {
      "text/plain": [
       "int"
      ]
     },
     "execution_count": 7,
     "metadata": {},
     "output_type": "execute_result"
    }
   ],
   "source": [
    "type(b)"
   ]
  },
  {
   "cell_type": "code",
   "execution_count": 9,
   "id": "45ccb569-026c-4c78-915e-2664d8c85506",
   "metadata": {},
   "outputs": [
    {
     "data": {
      "text/plain": [
       "200"
      ]
     },
     "execution_count": 9,
     "metadata": {},
     "output_type": "execute_result"
    }
   ],
   "source": [
    "ib = 200\n",
    "ib"
   ]
  },
  {
   "cell_type": "code",
   "execution_count": 13,
   "id": "cd51b7f7-7c92-4207-be80-e5150a3318a1",
   "metadata": {},
   "outputs": [
    {
     "data": {
      "text/plain": [
       "'100'"
      ]
     },
     "execution_count": 13,
     "metadata": {},
     "output_type": "execute_result"
    }
   ],
   "source": [
    "c = \"100\"\n",
    "c"
   ]
  },
  {
   "cell_type": "code",
   "execution_count": 15,
   "id": "59e291e4-f3da-4883-a43e-b19865b813a8",
   "metadata": {},
   "outputs": [
    {
     "data": {
      "text/plain": [
       "str"
      ]
     },
     "execution_count": 15,
     "metadata": {},
     "output_type": "execute_result"
    }
   ],
   "source": [
    "type(c)"
   ]
  },
  {
   "cell_type": "code",
   "execution_count": 17,
   "id": "38fb3a21-df29-451b-96d5-a5c1f387b88e",
   "metadata": {},
   "outputs": [
    {
     "data": {
      "text/plain": [
       "'80g'"
      ]
     },
     "execution_count": 17,
     "metadata": {},
     "output_type": "execute_result"
    }
   ],
   "source": [
    "ab = \"80g\"\n",
    "ab"
   ]
  },
  {
   "cell_type": "code",
   "execution_count": 19,
   "id": "86ab4565-2884-482d-a470-b901259911c4",
   "metadata": {},
   "outputs": [
    {
     "data": {
      "text/plain": [
       "str"
      ]
     },
     "execution_count": 19,
     "metadata": {},
     "output_type": "execute_result"
    }
   ],
   "source": [
    "type(ab)"
   ]
  },
  {
   "cell_type": "code",
   "execution_count": 23,
   "id": "47545190-a64f-42a9-a73a-f24c3c6bc301",
   "metadata": {},
   "outputs": [
    {
     "name": "stdout",
     "output_type": "stream",
     "text": [
      "['False', 'None', 'True', 'and', 'as', 'assert', 'async', 'await', 'break', 'class', 'continue', 'def', 'del', 'elif', 'else', 'except', 'finally', 'for', 'from', 'global', 'if', 'import', 'in', 'is', 'lambda', 'nonlocal', 'not', 'or', 'pass', 'raise', 'return', 'try', 'while', 'with', 'yield']\n"
     ]
    }
   ],
   "source": [
    "import keyword\n",
    "print(keyword.kwlist)"
   ]
  },
  {
   "cell_type": "code",
   "execution_count": 25,
   "id": "a09958df-2f80-4dd8-a261-66ee2cd99d66",
   "metadata": {},
   "outputs": [
    {
     "data": {
      "text/plain": [
       "35"
      ]
     },
     "execution_count": 25,
     "metadata": {},
     "output_type": "execute_result"
    }
   ],
   "source": [
    "len(keyword.kwlist)"
   ]
  },
  {
   "cell_type": "code",
   "execution_count": 27,
   "id": "a2be77fe-ee69-47fc-bda5-ae58ad6d2c4e",
   "metadata": {},
   "outputs": [
    {
     "ename": "SyntaxError",
     "evalue": "cannot assign to False (373250886.py, line 1)",
     "output_type": "error",
     "traceback": [
      "\u001b[1;36m  Cell \u001b[1;32mIn[27], line 1\u001b[1;36m\u001b[0m\n\u001b[1;33m    False = \"1234\"\u001b[0m\n\u001b[1;37m    ^\u001b[0m\n\u001b[1;31mSyntaxError\u001b[0m\u001b[1;31m:\u001b[0m cannot assign to False\n"
     ]
    }
   ],
   "source": [
    "False = \"1234\"\n",
    "False"
   ]
  },
  {
   "cell_type": "code",
   "execution_count": 29,
   "id": "f6ba431e-eb63-4a59-91c5-fa8be66bec3c",
   "metadata": {},
   "outputs": [
    {
     "data": {
      "text/plain": [
       "500"
      ]
     },
     "execution_count": 29,
     "metadata": {},
     "output_type": "execute_result"
    }
   ],
   "source": [
    "a1 = 500\n",
    "a1"
   ]
  },
  {
   "cell_type": "code",
   "execution_count": 31,
   "id": "22b7f71a-a28e-4745-94e0-c8e59cdebc79",
   "metadata": {},
   "outputs": [
    {
     "ename": "SyntaxError",
     "evalue": "invalid decimal literal (1464867528.py, line 1)",
     "output_type": "error",
     "traceback": [
      "\u001b[1;36m  Cell \u001b[1;32mIn[31], line 1\u001b[1;36m\u001b[0m\n\u001b[1;33m    1b = 900\u001b[0m\n\u001b[1;37m    ^\u001b[0m\n\u001b[1;31mSyntaxError\u001b[0m\u001b[1;31m:\u001b[0m invalid decimal literal\n"
     ]
    }
   ],
   "source": [
    "1b = 900\n",
    "1b"
   ]
  },
  {
   "cell_type": "code",
   "execution_count": 33,
   "id": "54c64afd-0b56-48cc-a5d0-106541a85066",
   "metadata": {},
   "outputs": [
    {
     "ename": "SyntaxError",
     "evalue": "invalid syntax (2389077632.py, line 1)",
     "output_type": "error",
     "traceback": [
      "\u001b[1;36m  Cell \u001b[1;32mIn[33], line 1\u001b[1;36m\u001b[0m\n\u001b[1;33m    b$7 = 800\u001b[0m\n\u001b[1;37m     ^\u001b[0m\n\u001b[1;31mSyntaxError\u001b[0m\u001b[1;31m:\u001b[0m invalid syntax\n"
     ]
    }
   ],
   "source": [
    "b$7 = 800\n",
    "b$7"
   ]
  },
  {
   "cell_type": "code",
   "execution_count": 35,
   "id": "085c82e7-6997-443d-8119-507d54cc5ad3",
   "metadata": {},
   "outputs": [
    {
     "data": {
      "text/plain": [
       "605"
      ]
     },
     "execution_count": 35,
     "metadata": {},
     "output_type": "execute_result"
    }
   ],
   "source": [
    "a_1 = 605\n",
    "a_1"
   ]
  },
  {
   "cell_type": "code",
   "execution_count": 37,
   "id": "aacf8ae5-b5ac-42ef-8927-ec4b893e9258",
   "metadata": {},
   "outputs": [
    {
     "data": {
      "text/plain": [
       "2923900211536"
      ]
     },
     "execution_count": 37,
     "metadata": {},
     "output_type": "execute_result"
    }
   ],
   "source": [
    "#storageLocation\n",
    "id(a_1)"
   ]
  },
  {
   "cell_type": "code",
   "execution_count": 39,
   "id": "91383503-2b30-49eb-914a-5ee7115d560a",
   "metadata": {},
   "outputs": [
    {
     "data": {
      "text/plain": [
       "2923900212080"
      ]
     },
     "execution_count": 39,
     "metadata": {},
     "output_type": "execute_result"
    }
   ],
   "source": [
    "b = 605\n",
    "b\n",
    "id(b)"
   ]
  },
  {
   "cell_type": "code",
   "execution_count": 43,
   "id": "a5c6a5e8-a575-4af2-9821-0c19e3a3b964",
   "metadata": {},
   "outputs": [
    {
     "data": {
      "text/plain": [
       "2923900213712"
      ]
     },
     "execution_count": 43,
     "metadata": {},
     "output_type": "execute_result"
    }
   ],
   "source": [
    "c = 560\n",
    "id(c)"
   ]
  },
  {
   "cell_type": "code",
   "execution_count": 45,
   "id": "89600b8d-f1f0-4e2d-8408-622fe223ac5d",
   "metadata": {},
   "outputs": [
    {
     "data": {
      "text/plain": [
       "140734481974744"
      ]
     },
     "execution_count": 45,
     "metadata": {},
     "output_type": "execute_result"
    }
   ],
   "source": [
    "d = 98\n",
    "e = 78\n",
    "id(d)"
   ]
  },
  {
   "cell_type": "code",
   "execution_count": 47,
   "id": "8db17138-6baf-46ac-b6b8-51d13da16886",
   "metadata": {},
   "outputs": [
    {
     "data": {
      "text/plain": [
       "140734481974104"
      ]
     },
     "execution_count": 47,
     "metadata": {},
     "output_type": "execute_result"
    }
   ],
   "source": [
    "id(e)"
   ]
  },
  {
   "cell_type": "code",
   "execution_count": 49,
   "id": "c6f42b4a-26d8-45b8-bbd4-65139741eac3",
   "metadata": {},
   "outputs": [
    {
     "name": "stdout",
     "output_type": "stream",
     "text": [
      "The summation of two numbers are  60\n"
     ]
    }
   ],
   "source": [
    "a = 20\n",
    "b = 40\n",
    "sum = a+b\n",
    "print(\"The summation of two numbers are \",sum)"
   ]
  },
  {
   "cell_type": "code",
   "execution_count": 51,
   "id": "09e7df47-8344-4724-a3aa-788580461446",
   "metadata": {},
   "outputs": [
    {
     "name": "stdout",
     "output_type": "stream",
     "text": [
      "The summation of two numbers are:- 60\n"
     ]
    }
   ],
   "source": [
    "print(\"The summation of two numbers are:-\",sum)"
   ]
  },
  {
   "cell_type": "code",
   "execution_count": 53,
   "id": "866bbc90-288c-453e-83c2-f58d80ba9eaa",
   "metadata": {},
   "outputs": [
    {
     "data": {
      "text/plain": [
       "('The sum is ', 60)"
      ]
     },
     "execution_count": 53,
     "metadata": {},
     "output_type": "execute_result"
    }
   ],
   "source": [
    "\"The sum is \",sum"
   ]
  },
  {
   "cell_type": "code",
   "execution_count": 55,
   "id": "a65f1569-60fa-4352-be16-f7ff2b872cb1",
   "metadata": {},
   "outputs": [
    {
     "data": {
      "text/plain": [
       "60"
      ]
     },
     "execution_count": 55,
     "metadata": {},
     "output_type": "execute_result"
    }
   ],
   "source": [
    "sum"
   ]
  },
  {
   "cell_type": "code",
   "execution_count": 57,
   "id": "59e55bd0-63a6-428a-ad79-97abb4198656",
   "metadata": {},
   "outputs": [
    {
     "data": {
      "text/plain": [
       "19"
      ]
     },
     "execution_count": 57,
     "metadata": {},
     "output_type": "execute_result"
    }
   ],
   "source": [
    "a = b = c = 19\n",
    "a"
   ]
  },
  {
   "cell_type": "code",
   "execution_count": 59,
   "id": "7428e873-07f0-4185-93b7-2eb6906faba2",
   "metadata": {},
   "outputs": [
    {
     "data": {
      "text/plain": [
       "19"
      ]
     },
     "execution_count": 59,
     "metadata": {},
     "output_type": "execute_result"
    }
   ],
   "source": [
    "b"
   ]
  },
  {
   "cell_type": "code",
   "execution_count": 61,
   "id": "29da788b-52c0-45b9-9bf1-2e0f35144790",
   "metadata": {},
   "outputs": [
    {
     "data": {
      "text/plain": [
       "19"
      ]
     },
     "execution_count": 61,
     "metadata": {},
     "output_type": "execute_result"
    }
   ],
   "source": [
    "c"
   ]
  },
  {
   "cell_type": "code",
   "execution_count": 63,
   "id": "3acf23d6-16c5-4343-a705-fc3973c3e379",
   "metadata": {},
   "outputs": [
    {
     "name": "stdout",
     "output_type": "stream",
     "text": [
      "78 56 34\n"
     ]
    }
   ],
   "source": [
    "a = 78\n",
    "b = 56\n",
    "c = 34\n",
    "abc = 78\n",
    "print(a,b,c)"
   ]
  },
  {
   "cell_type": "code",
   "execution_count": 65,
   "id": "3005157c-acb8-46f4-9104-97e5db681fa0",
   "metadata": {},
   "outputs": [
    {
     "name": "stdout",
     "output_type": "stream",
     "text": [
      "78\n"
     ]
    }
   ],
   "source": [
    "print(abc)"
   ]
  },
  {
   "cell_type": "code",
   "execution_count": 67,
   "id": "bf25af37-36c6-4c79-8864-fb29e5f6d017",
   "metadata": {},
   "outputs": [
    {
     "name": "stdout",
     "output_type": "stream",
     "text": [
      "46\n"
     ]
    }
   ],
   "source": [
    "a = 46\n",
    "print(a)"
   ]
  },
  {
   "cell_type": "code",
   "execution_count": 69,
   "id": "db08b0a5-e2ea-4883-8c51-448ca67b3d1b",
   "metadata": {},
   "outputs": [],
   "source": [
    "#delete Elements\n",
    "del(a)"
   ]
  },
  {
   "cell_type": "code",
   "execution_count": 71,
   "id": "8c195196-a97e-4b8c-94bf-e34cd6e38457",
   "metadata": {},
   "outputs": [
    {
     "ename": "NameError",
     "evalue": "name 'a' is not defined",
     "output_type": "error",
     "traceback": [
      "\u001b[1;31m---------------------------------------------------------------------------\u001b[0m",
      "\u001b[1;31mNameError\u001b[0m                                 Traceback (most recent call last)",
      "Cell \u001b[1;32mIn[71], line 1\u001b[0m\n\u001b[1;32m----> 1\u001b[0m \u001b[38;5;28mprint\u001b[39m(a)\n",
      "\u001b[1;31mNameError\u001b[0m: name 'a' is not defined"
     ]
    }
   ],
   "source": [
    "print(a)"
   ]
  },
  {
   "cell_type": "code",
   "execution_count": 73,
   "id": "642b24d5-91f8-451e-b2d7-5b6488cb0649",
   "metadata": {},
   "outputs": [],
   "source": [
    "a=20\n",
    "b=30\n",
    "c=40\n",
    "del a,b"
   ]
  },
  {
   "cell_type": "code",
   "execution_count": 75,
   "id": "93ed6c16-495a-4d32-8efc-d73d183c0b53",
   "metadata": {},
   "outputs": [
    {
     "name": "stdout",
     "output_type": "stream",
     "text": [
      "40\n"
     ]
    }
   ],
   "source": [
    "print(c)"
   ]
  },
  {
   "cell_type": "code",
   "execution_count": 77,
   "id": "16bb402a-cc7c-495e-be02-3e8aa03067d8",
   "metadata": {},
   "outputs": [
    {
     "ename": "SyntaxError",
     "evalue": "invalid decimal literal (2770667820.py, line 1)",
     "output_type": "error",
     "traceback": [
      "\u001b[1;36m  Cell \u001b[1;32mIn[77], line 1\u001b[1;36m\u001b[0m\n\u001b[1;33m    1a = 60\u001b[0m\n\u001b[1;37m    ^\u001b[0m\n\u001b[1;31mSyntaxError\u001b[0m\u001b[1;31m:\u001b[0m invalid decimal literal\n"
     ]
    }
   ],
   "source": [
    "1a = 60"
   ]
  },
  {
   "cell_type": "code",
   "execution_count": 79,
   "id": "07d58d19-6887-4762-9803-f3d1636d4b52",
   "metadata": {},
   "outputs": [
    {
     "ename": "SyntaxError",
     "evalue": "cannot assign to expression here. Maybe you meant '==' instead of '='? (902318761.py, line 1)",
     "output_type": "error",
     "traceback": [
      "\u001b[1;36m  Cell \u001b[1;32mIn[79], line 1\u001b[1;36m\u001b[0m\n\u001b[1;33m    a@1 = 80\u001b[0m\n\u001b[1;37m    ^\u001b[0m\n\u001b[1;31mSyntaxError\u001b[0m\u001b[1;31m:\u001b[0m cannot assign to expression here. Maybe you meant '==' instead of '='?\n"
     ]
    }
   ],
   "source": [
    "a@1 = 80"
   ]
  },
  {
   "cell_type": "code",
   "execution_count": 81,
   "id": "d7f73042-eeeb-4ed6-b840-9a1a8ad49005",
   "metadata": {},
   "outputs": [],
   "source": [
    "#multiple assignments"
   ]
  },
  {
   "cell_type": "code",
   "execution_count": 83,
   "id": "d9ebdec3-a831-4011-9d3a-26d800f4528a",
   "metadata": {},
   "outputs": [
    {
     "name": "stdout",
     "output_type": "stream",
     "text": [
      "30 40 50\n"
     ]
    }
   ],
   "source": [
    "a=30\n",
    "b=40\n",
    "c=50\n",
    "print(a,b,c)"
   ]
  },
  {
   "cell_type": "code",
   "execution_count": 85,
   "id": "a15753c7-fc44-488a-8cac-3284553db5e0",
   "metadata": {},
   "outputs": [
    {
     "name": "stdout",
     "output_type": "stream",
     "text": [
      "40 50 60\n"
     ]
    }
   ],
   "source": [
    "a,b,c = 40,50,60\n",
    "print(a,b,c)"
   ]
  },
  {
   "cell_type": "code",
   "execution_count": 87,
   "id": "8e78e2d2-de28-4262-ba78-d316e267d2ae",
   "metadata": {},
   "outputs": [],
   "source": [
    "a=b=c=\"AI\""
   ]
  },
  {
   "cell_type": "code",
   "execution_count": 89,
   "id": "3ed6d810-cb32-4875-ac22-1f54eb477d2c",
   "metadata": {},
   "outputs": [
    {
     "name": "stdout",
     "output_type": "stream",
     "text": [
      "AI\n"
     ]
    }
   ],
   "source": [
    "print(b)"
   ]
  },
  {
   "cell_type": "code",
   "execution_count": null,
   "id": "f171f3fd-336b-4a63-a49a-c89eeb53bb73",
   "metadata": {},
   "outputs": [],
   "source": []
  }
 ],
 "metadata": {
  "kernelspec": {
   "display_name": "Python 3 (ipykernel)",
   "language": "python",
   "name": "python3"
  },
  "language_info": {
   "codemirror_mode": {
    "name": "ipython",
    "version": 3
   },
   "file_extension": ".py",
   "mimetype": "text/x-python",
   "name": "python",
   "nbconvert_exporter": "python",
   "pygments_lexer": "ipython3",
   "version": "3.12.4"
  }
 },
 "nbformat": 4,
 "nbformat_minor": 5
}
