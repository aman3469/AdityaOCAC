{
 "cells": [
  {
   "cell_type": "code",
   "execution_count": 1,
   "id": "dff40f90-2a32-4cff-900a-c70a2ccfe333",
   "metadata": {},
   "outputs": [
    {
     "data": {
      "text/plain": [
       "range(0, 21)"
      ]
     },
     "execution_count": 1,
     "metadata": {},
     "output_type": "execute_result"
    }
   ],
   "source": [
    "range(21)"
   ]
  },
  {
   "cell_type": "code",
   "execution_count": 2,
   "id": "004234e7-24df-4dbc-924e-a048dd92b5a5",
   "metadata": {},
   "outputs": [
    {
     "data": {
      "text/plain": [
       "[0, 1, 2, 3, 4, 5, 6, 7, 8, 9, 10, 11, 12, 13, 14, 15, 16, 17, 18, 19, 20]"
      ]
     },
     "execution_count": 2,
     "metadata": {},
     "output_type": "execute_result"
    }
   ],
   "source": [
    "list(range(21))"
   ]
  },
  {
   "cell_type": "code",
   "execution_count": 3,
   "id": "19ad338f-ee88-4601-88f4-b2e12b682900",
   "metadata": {},
   "outputs": [
    {
     "data": {
      "text/plain": [
       "[2, 3, 4, 5, 6, 7, 8, 9, 10, 11, 12, 13, 14, 15, 16, 17, 18, 19, 20, 21]"
      ]
     },
     "execution_count": 3,
     "metadata": {},
     "output_type": "execute_result"
    }
   ],
   "source": [
    "list(range(2,22))"
   ]
  },
  {
   "cell_type": "code",
   "execution_count": 4,
   "id": "2db3904d-0e53-4c48-b3b8-6a4dbcd3dd4e",
   "metadata": {},
   "outputs": [
    {
     "name": "stdout",
     "output_type": "stream",
     "text": [
      "[2, 5, 8, 11, 14, 17, 20]\n"
     ]
    }
   ],
   "source": [
    "print(list(range(2,22,3)))"
   ]
  },
  {
   "cell_type": "code",
   "execution_count": 5,
   "id": "71bff836-d503-4bcc-8ba5-47641a09079d",
   "metadata": {},
   "outputs": [
    {
     "name": "stdout",
     "output_type": "stream",
     "text": [
      "[9, 7, 5]\n"
     ]
    }
   ],
   "source": [
    "print(list(range(9,3,-2)))"
   ]
  },
  {
   "cell_type": "code",
   "execution_count": 6,
   "id": "93b09c65-5df9-4d93-b915-8dc76ffb5964",
   "metadata": {},
   "outputs": [
    {
     "name": "stdout",
     "output_type": "stream",
     "text": [
      "[211, 209, 207, 205, 203, 201, 199, 197, 195, 193, 191, 189, 187, 185, 183, 181, 179, 177, 175, 173, 171, 169, 167, 165, 163, 161, 159, 157, 155, 153, 151, 149, 147, 145, 143, 141, 139, 137, 135, 133, 131, 129, 127, 125, 123, 121, 119, 117, 115, 113, 111, 109, 107, 105, 103, 101, 99, 97, 95, 93, 91, 89, 87, 85, 83, 81, 79, 77, 75, 73, 71, 69, 67, 65, 63, 61, 59, 57, 55, 53, 51, 49, 47, 45, 43, 41, 39, 37, 35, 33, 31, 29, 27, 25, 23, 21, 19, 17, 15, 13, 11, 9, 7, 5, 3]\n"
     ]
    }
   ],
   "source": [
    "print(list(range(211,1,-2)))"
   ]
  },
  {
   "cell_type": "code",
   "execution_count": 7,
   "id": "a0522cbb-cf80-4d13-9d1f-332927bd399f",
   "metadata": {},
   "outputs": [],
   "source": [
    "#list"
   ]
  },
  {
   "cell_type": "code",
   "execution_count": 8,
   "id": "a68ca4ec-4490-43af-8992-51d3373d6dee",
   "metadata": {},
   "outputs": [],
   "source": [
    "#empty list"
   ]
  },
  {
   "cell_type": "code",
   "execution_count": 9,
   "id": "aa5e9416-f209-4b91-aebb-6314f099e07b",
   "metadata": {},
   "outputs": [
    {
     "data": {
      "text/plain": [
       "[]"
      ]
     },
     "execution_count": 9,
     "metadata": {},
     "output_type": "execute_result"
    }
   ],
   "source": [
    "l = []\n",
    "l"
   ]
  },
  {
   "cell_type": "code",
   "execution_count": 10,
   "id": "88fb0d1e-7432-4e93-9a32-6c598ecafa19",
   "metadata": {},
   "outputs": [
    {
     "data": {
      "text/plain": [
       "[]"
      ]
     },
     "execution_count": 10,
     "metadata": {},
     "output_type": "execute_result"
    }
   ],
   "source": [
    "l = list()\n",
    "l"
   ]
  },
  {
   "cell_type": "code",
   "execution_count": 11,
   "id": "23205d13-980f-4dfb-b3de-c88c47a67cdc",
   "metadata": {},
   "outputs": [],
   "source": [
    "#list creation"
   ]
  },
  {
   "cell_type": "code",
   "execution_count": 12,
   "id": "6f194799-5d56-44a5-ab9d-1527f2c9c87d",
   "metadata": {},
   "outputs": [
    {
     "data": {
      "text/plain": [
       "[2, 3, 4]"
      ]
     },
     "execution_count": 12,
     "metadata": {},
     "output_type": "execute_result"
    }
   ],
   "source": [
    "l=[2,3,4]\n",
    "l"
   ]
  },
  {
   "cell_type": "code",
   "execution_count": 13,
   "id": "b2a9bf39-b28f-4fd8-ac18-7c01dc60ff3b",
   "metadata": {},
   "outputs": [
    {
     "data": {
      "text/plain": [
       "list"
      ]
     },
     "execution_count": 13,
     "metadata": {},
     "output_type": "execute_result"
    }
   ],
   "source": [
    "type(l)"
   ]
  },
  {
   "cell_type": "code",
   "execution_count": 14,
   "id": "bf69acc5-d926-4bdb-af8d-a892ae26eaa3",
   "metadata": {},
   "outputs": [
    {
     "data": {
      "text/plain": [
       "[2, 1.3, (2+4j), True, '2', 'rew']"
      ]
     },
     "execution_count": 14,
     "metadata": {},
     "output_type": "execute_result"
    }
   ],
   "source": [
    "# list is a heterogenous(different datatypes)\n",
    "li=[2,1.3,2+4j,True,'2','rew']\n",
    "li"
   ]
  },
  {
   "cell_type": "code",
   "execution_count": 15,
   "id": "5356b2c8-4510-4c21-a0ac-47c05b3a92f5",
   "metadata": {},
   "outputs": [
    {
     "name": "stdout",
     "output_type": "stream",
     "text": [
      "[[2, 3], [4, 5], 2, 4]\n"
     ]
    }
   ],
   "source": [
    "#Nested list(list of list)\n",
    "lst3=[[2,3],[4,5],2,4]\n",
    "print(lst3)"
   ]
  },
  {
   "cell_type": "code",
   "execution_count": 16,
   "id": "b1f11ee9-2866-4b9b-bb89-f2cc56ee79b1",
   "metadata": {},
   "outputs": [],
   "source": [
    "#list length"
   ]
  },
  {
   "cell_type": "code",
   "execution_count": 17,
   "id": "3eb248a8-8495-4c4d-8e40-ef45807613cc",
   "metadata": {},
   "outputs": [
    {
     "name": "stdout",
     "output_type": "stream",
     "text": [
      "8\n"
     ]
    }
   ],
   "source": [
    "#find length of a list\n",
    "lst = ['one','two','three','four',[2,3,4,5],4,5,[2,3]]\n",
    "print(len(lst))"
   ]
  },
  {
   "cell_type": "code",
   "execution_count": 18,
   "id": "b7916ea6-6ae6-4982-8745-94a24b2fd0d1",
   "metadata": {},
   "outputs": [
    {
     "data": {
      "text/plain": [
       "21"
      ]
     },
     "execution_count": 18,
     "metadata": {},
     "output_type": "execute_result"
    }
   ],
   "source": [
    "my_list = [21,31.6,\"Hello\"]\n",
    "#print 1st index element\n",
    "my_list[0]"
   ]
  },
  {
   "cell_type": "code",
   "execution_count": 19,
   "id": "694b4974-5d6c-4ed9-b69e-892e2330d85c",
   "metadata": {},
   "outputs": [
    {
     "name": "stdout",
     "output_type": "stream",
     "text": [
      "Hello\n"
     ]
    }
   ],
   "source": [
    "#print last element using negative index\n",
    "print(my_list[-1])"
   ]
  },
  {
   "cell_type": "code",
   "execution_count": 21,
   "id": "d15d7fd6-f041-4ce6-8402-10144cc496f5",
   "metadata": {},
   "outputs": [
    {
     "data": {
      "text/plain": [
       "['NEW', 31.6, 'Hello']"
      ]
     },
     "execution_count": 21,
     "metadata": {},
     "output_type": "execute_result"
    }
   ],
   "source": [
    "#list are mutable mean values of elements of a list can be altered\n",
    "my_list[0]='NEW'\n",
    "my_list"
   ]
  },
  {
   "cell_type": "code",
   "execution_count": 55,
   "id": "9a204e61-2e07-4c32-bec9-40e5ff65ce32",
   "metadata": {},
   "outputs": [],
   "source": [
    "#list slicing"
   ]
  },
  {
   "cell_type": "code",
   "execution_count": 56,
   "id": "bfcbc527-e43b-43f0-9582-b1556ad0b843",
   "metadata": {},
   "outputs": [
    {
     "name": "stdout",
     "output_type": "stream",
     "text": [
      "[21, 31, 41, 51, 61, 71, 81, 91]\n",
      "[31, 41, 51, 61, 71, 81, 91]\n",
      "[21, 31, 41, 51]\n",
      "[21, 51, 81]\n",
      "[51, 81]\n",
      "[81, 61, 41, 21]\n"
     ]
    }
   ],
   "source": [
    "number = [21,31,41,51,61,71,81,91]\n",
    "print(number[:])\n",
    "print(number[1:])\n",
    "print(number[:4])\n",
    "print(number[::3])\n",
    "print(number[3::3])\n",
    "print(number[-2::-2])"
   ]
  },
  {
   "cell_type": "code",
   "execution_count": 57,
   "id": "63b4a110-612f-4f32-8ee8-4aa9d7069102",
   "metadata": {},
   "outputs": [
    {
     "data": {
      "text/plain": [
       "4"
      ]
     },
     "execution_count": 57,
     "metadata": {},
     "output_type": "execute_result"
    }
   ],
   "source": [
    "nest = [2,3,4,[5,56,['target',4,51]]]\n",
    "len(nest)"
   ]
  },
  {
   "cell_type": "code",
   "execution_count": 59,
   "id": "366575cf-e850-44d6-bd38-19d9b6b7c399",
   "metadata": {},
   "outputs": [
    {
     "data": {
      "text/plain": [
       "'target'"
      ]
     },
     "execution_count": 59,
     "metadata": {},
     "output_type": "execute_result"
    }
   ],
   "source": [
    "nest[3][2][0]"
   ]
  },
  {
   "cell_type": "code",
   "execution_count": 25,
   "id": "8ce6ce64-be70-4b13-b268-c7d4782d1be3",
   "metadata": {},
   "outputs": [],
   "source": [
    "lst = [11,22,[33,44], [55, [500, 200, ['mobile'], 33,21],1,8]]"
   ]
  },
  {
   "cell_type": "code",
   "execution_count": 26,
   "id": "ab71aec5-7ff9-4586-82f3-94e129f0cdb4",
   "metadata": {},
   "outputs": [
    {
     "data": {
      "text/plain": [
       "'mobile'"
      ]
     },
     "execution_count": 26,
     "metadata": {},
     "output_type": "execute_result"
    }
   ],
   "source": [
    "lst[3][1][2][0]"
   ]
  },
  {
   "cell_type": "code",
   "execution_count": 27,
   "id": "db95c82a-9bd0-426d-86b4-07d1278cf160",
   "metadata": {},
   "outputs": [
    {
     "data": {
      "text/plain": [
       "[11, 22, [33, 44], [55, [500, 200, ['mobile'], 33, 21], 0.33333, 8]]"
      ]
     },
     "execution_count": 27,
     "metadata": {},
     "output_type": "execute_result"
    }
   ],
   "source": [
    "lst[3][2]=0.33333\n",
    "lst"
   ]
  },
  {
   "cell_type": "code",
   "execution_count": 28,
   "id": "872f0502-a80c-4007-b5d5-d5fb0640df30",
   "metadata": {},
   "outputs": [
    {
     "data": {
      "text/plain": [
       "30"
      ]
     },
     "execution_count": 28,
     "metadata": {},
     "output_type": "execute_result"
    }
   ],
   "source": [
    "10==[\"bsad\",'b','c']\n",
    "20==['a',6,4.0]\n",
    "10+20"
   ]
  },
  {
   "cell_type": "code",
   "execution_count": 29,
   "id": "83b34375-15c0-4cd0-a8f9-2f87c8f3f6d2",
   "metadata": {},
   "outputs": [
    {
     "ename": "SyntaxError",
     "evalue": "cannot assign to literal here. Maybe you meant '==' instead of '='? (1132883036.py, line 1)",
     "output_type": "error",
     "traceback": [
      "\u001b[1;36m  Cell \u001b[1;32mIn[29], line 1\u001b[1;36m\u001b[0m\n\u001b[1;33m    10=[\"bsad\",'b','c']\u001b[0m\n\u001b[1;37m    ^\u001b[0m\n\u001b[1;31mSyntaxError\u001b[0m\u001b[1;31m:\u001b[0m cannot assign to literal here. Maybe you meant '==' instead of '='?\n"
     ]
    }
   ],
   "source": [
    "10=[\"bsad\",'b','c']\n",
    "20=['a',6,4.0]\n",
    "10+20"
   ]
  },
  {
   "cell_type": "code",
   "execution_count": 30,
   "id": "cbf2bdc8-1767-4293-9a64-d949f2d9a439",
   "metadata": {},
   "outputs": [
    {
     "data": {
      "text/plain": [
       "['a', 'b', 'c', 'd', 'e', '10']"
      ]
     },
     "execution_count": 30,
     "metadata": {},
     "output_type": "execute_result"
    }
   ],
   "source": [
    "list = ['a','b','c','d','e']\n",
    "list.append('10')\n",
    "list"
   ]
  },
  {
   "cell_type": "code",
   "execution_count": 31,
   "id": "64abdc51-b6cb-4ca5-99d9-be4a37749ccb",
   "metadata": {},
   "outputs": [
    {
     "data": {
      "text/plain": [
       "[1, 2, 3, 4, 5, 6, 7, [8, 9, 10]]"
      ]
     },
     "execution_count": 31,
     "metadata": {},
     "output_type": "execute_result"
    }
   ],
   "source": [
    "list = [1,2,3,4,5,6,7,]\n",
    "list.append([8,9,10])\n",
    "list"
   ]
  },
  {
   "cell_type": "code",
   "execution_count": 32,
   "id": "4a11d1cd-23a3-47a9-be07-688f7dc2d55f",
   "metadata": {},
   "outputs": [
    {
     "data": {
      "text/plain": [
       "[10, 11, 12, 13, 14, 15, 16, 17, 18, 19, 20]"
      ]
     },
     "execution_count": 32,
     "metadata": {},
     "output_type": "execute_result"
    }
   ],
   "source": [
    "lst=[10,11,12,13,14,15]\n",
    "lst.extend([16,17,18,19,20])\n",
    "lst"
   ]
  },
  {
   "cell_type": "code",
   "execution_count": 33,
   "id": "3b533368-a9ba-4635-a05c-ddff6f205aa8",
   "metadata": {},
   "outputs": [
    {
     "data": {
      "text/plain": [
       "['one', 'two', 6, 'three', 'four']"
      ]
     },
     "execution_count": 33,
     "metadata": {},
     "output_type": "execute_result"
    }
   ],
   "source": [
    "lst = ['one','two','three','four']\n",
    "lst.insert(2,6)\n",
    "lst"
   ]
  },
  {
   "cell_type": "code",
   "execution_count": 34,
   "id": "e4fa152a-77e2-4756-9bb3-d8310bd04621",
   "metadata": {},
   "outputs": [
    {
     "name": "stdout",
     "output_type": "stream",
     "text": [
      "['one', 'two', 6, 'three', 'four']\n"
     ]
    }
   ],
   "source": [
    "lst = ['one','two','three','four']\n",
    "lst.insert(2,6)\n",
    "print(lst)"
   ]
  },
  {
   "cell_type": "code",
   "execution_count": 35,
   "id": "15e9100c-54f9-4d5c-8323-9e328139aaa7",
   "metadata": {},
   "outputs": [
    {
     "data": {
      "text/plain": [
       "[20, 30, 4, 5, 6, 10, 7, 8, 9, 10, 11, 12, 13, 14, 15]"
      ]
     },
     "execution_count": 35,
     "metadata": {},
     "output_type": "execute_result"
    }
   ],
   "source": [
    "marks =  [20, 30, 10,4, 5, 6,10, 7, 8, 9, 10, 11, 12, 13, 14, 15] \n",
    "marks.remove(10)\n",
    "marks"
   ]
  },
  {
   "cell_type": "code",
   "execution_count": 36,
   "id": "397c0334-c5cf-48ce-b411-302c0da186f5",
   "metadata": {},
   "outputs": [
    {
     "data": {
      "text/plain": [
       "[20, 30, 10, 4, 5, 6, 10, 7, 8, 9, 10, 11, 12, 13, 14]"
      ]
     },
     "execution_count": 36,
     "metadata": {},
     "output_type": "execute_result"
    }
   ],
   "source": [
    "dell =  [20, 30, 10,4, 5, 6,10, 7, 8, 9, 10, 11, 12, 13, 14, 15] \n",
    "dell.remove(15)\n",
    "dell"
   ]
  },
  {
   "cell_type": "code",
   "execution_count": 37,
   "id": "949a7fd9-78ea-4074-b247-a6f6d3665435",
   "metadata": {},
   "outputs": [
    {
     "data": {
      "text/plain": [
       "['one', 'three', 'four', 'two']"
      ]
     },
     "execution_count": 37,
     "metadata": {},
     "output_type": "execute_result"
    }
   ],
   "source": [
    "lst=['one', [1,2, 'two'], 'three', 'four', 'two'] \n",
    "lst.remove(lst[1])\n",
    "lst"
   ]
  },
  {
   "cell_type": "code",
   "execution_count": 38,
   "id": "46b19f63-dacd-414f-acf9-a684666df4b7",
   "metadata": {},
   "outputs": [
    {
     "data": {
      "text/plain": [
       "[]"
      ]
     },
     "execution_count": 38,
     "metadata": {},
     "output_type": "execute_result"
    }
   ],
   "source": [
    "c=[1,2,3,4,5,]\n",
    "c.clear()\n",
    "c"
   ]
  },
  {
   "cell_type": "code",
   "execution_count": 39,
   "id": "d05594ad-24d7-4129-b558-ab03ff9d17f5",
   "metadata": {},
   "outputs": [
    {
     "data": {
      "text/plain": [
       "[1, 2, 3, 4, 6, 7, 8, 9]"
      ]
     },
     "execution_count": 39,
     "metadata": {},
     "output_type": "execute_result"
    }
   ],
   "source": [
    "lst=[1,2,3,4,6,7,8,9,15] \n",
    "lst.pop() \n",
    "lst"
   ]
  },
  {
   "cell_type": "code",
   "execution_count": 40,
   "id": "88145e8b-e806-4e35-8bd4-90c0b33440fa",
   "metadata": {},
   "outputs": [
    {
     "data": {
      "text/plain": [
       "['one', 'two', 'four']"
      ]
     },
     "execution_count": 40,
     "metadata": {},
     "output_type": "execute_result"
    }
   ],
   "source": [
    "lst = ['one','two','three','four']\n",
    "lst.pop(2)\n",
    "lst"
   ]
  },
  {
   "cell_type": "code",
   "execution_count": 41,
   "id": "1620893d-940f-4292-aac5-d298cc0475b1",
   "metadata": {},
   "outputs": [
    {
     "data": {
      "text/plain": [
       "['two', ['three', 'four'], 'five', 'six']"
      ]
     },
     "execution_count": 41,
     "metadata": {},
     "output_type": "execute_result"
    }
   ],
   "source": [
    "lst = ['one','two',['three','four'],'five','six']\n",
    "del lst[0]\n",
    "lst"
   ]
  },
  {
   "cell_type": "code",
   "execution_count": 42,
   "id": "bca2bddf-bf35-4731-96eb-afd10f8ef3ef",
   "metadata": {},
   "outputs": [
    {
     "data": {
      "text/plain": [
       "[13, 14, 15, 16, 17, 18, 19, 20]"
      ]
     },
     "execution_count": 42,
     "metadata": {},
     "output_type": "execute_result"
    }
   ],
   "source": [
    "hp=[1,2,3,4,5,6,7,8,9,10,11,12,13,14,15,16,17,18,19,20]\n",
    "del hp[0:12]\n",
    "hp"
   ]
  },
  {
   "cell_type": "code",
   "execution_count": 43,
   "id": "312b2844-d884-4859-b2dc-4a4e17dd5b78",
   "metadata": {},
   "outputs": [
    {
     "data": {
      "text/plain": [
       "['six', 'five', ['three', 'four'], 'two', 'one']"
      ]
     },
     "execution_count": 43,
     "metadata": {},
     "output_type": "execute_result"
    }
   ],
   "source": [
    "lst = ['one','two',['three','four'],'five','six']\n",
    "lst.reverse()\n",
    "lst"
   ]
  },
  {
   "cell_type": "code",
   "execution_count": 44,
   "id": "e0927db2-5350-4a88-8392-7349d0db8332",
   "metadata": {},
   "outputs": [
    {
     "data": {
      "text/plain": [
       "[0, 1, 1, 2, 3, 4, 5, 5, 6, 8, 9]"
      ]
     },
     "execution_count": 44,
     "metadata": {},
     "output_type": "execute_result"
    }
   ],
   "source": [
    "num=[9,8,5,4,6,1,2,3,0,1,5,]\n",
    "sorted(num)"
   ]
  },
  {
   "cell_type": "code",
   "execution_count": 45,
   "id": "f7944f7c-635a-4c83-b095-46a5e6e82a21",
   "metadata": {},
   "outputs": [
    {
     "data": {
      "text/plain": [
       "[9, 8, 6, 5, 5, 4, 3, 2, 1, 1, 0]"
      ]
     },
     "execution_count": 45,
     "metadata": {},
     "output_type": "execute_result"
    }
   ],
   "source": [
    "sorted(num,reverse=True)"
   ]
  },
  {
   "cell_type": "code",
   "execution_count": 46,
   "id": "ef256ff4-5e8f-4c9d-b26b-8d2023ec24c1",
   "metadata": {},
   "outputs": [
    {
     "data": {
      "text/plain": [
       "[1, 4.2, 5, 5, 20.3, 50, 70, 90]"
      ]
     },
     "execution_count": 46,
     "metadata": {},
     "output_type": "execute_result"
    }
   ],
   "source": [
    "lst = [1, 20.30,50,5,90,5,70,4.2] \n",
    "lst.sort() \n",
    "lst "
   ]
  },
  {
   "cell_type": "code",
   "execution_count": 47,
   "id": "f440efc3-e75c-4c13-93ea-99e86e70067c",
   "metadata": {},
   "outputs": [
    {
     "ename": "TypeError",
     "evalue": "'<' not supported between instances of 'str' and 'int'",
     "output_type": "error",
     "traceback": [
      "\u001b[1;31m---------------------------------------------------------------------------\u001b[0m",
      "\u001b[1;31mTypeError\u001b[0m                                 Traceback (most recent call last)",
      "Cell \u001b[1;32mIn[47], line 2\u001b[0m\n\u001b[0;32m      1\u001b[0m lst \u001b[38;5;241m=\u001b[39m [\u001b[38;5;241m1\u001b[39m,\u001b[38;5;241m20\u001b[39m,\u001b[38;5;124m'\u001b[39m\u001b[38;5;124mb\u001b[39m\u001b[38;5;124m'\u001b[39m,\u001b[38;5;241m5\u001b[39m,\u001b[38;5;124m'\u001b[39m\u001b[38;5;124ma\u001b[39m\u001b[38;5;124m'\u001b[39m]\n\u001b[1;32m----> 2\u001b[0m \u001b[38;5;28mprint\u001b[39m(lst\u001b[38;5;241m.\u001b[39msort())\n",
      "\u001b[1;31mTypeError\u001b[0m: '<' not supported between instances of 'str' and 'int'"
     ]
    }
   ],
   "source": [
    "lst = [1,20,'b',5,'a']\n",
    "print(lst.sort())"
   ]
  },
  {
   "cell_type": "code",
   "execution_count": 48,
   "id": "a025e429-248e-4898-8b5c-fbecf4d8e109",
   "metadata": {},
   "outputs": [
    {
     "name": "stdout",
     "output_type": "stream",
     "text": [
      "2\n",
      "2\n"
     ]
    }
   ],
   "source": [
    "num=[1,2,3,4,5,1,70,50,0,6,9,0,5,8,7,6,8]\n",
    "print(num.count(6))\n",
    "print(num.count(5))"
   ]
  },
  {
   "cell_type": "code",
   "execution_count": 49,
   "id": "6121862a-32c8-460c-b909-3a1d810ca1d9",
   "metadata": {},
   "outputs": [
    {
     "name": "stdout",
     "output_type": "stream",
     "text": [
      "[1, 1.0, 1.2, 1.3, 10]\n",
      "[1, 1.0, 1.2, 1.3, 10]\n"
     ]
    }
   ],
   "source": [
    "la=[1,1.0,1.2,1.3]\n",
    "lb=la\n",
    "lb.append(10)\n",
    "print(la)\n",
    "print(lb)"
   ]
  },
  {
   "cell_type": "code",
   "execution_count": 50,
   "id": "6501a147-7eea-4200-b29b-bcd68769c06e",
   "metadata": {},
   "outputs": [
    {
     "name": "stdout",
     "output_type": "stream",
     "text": [
      "[1, 1.0, 1.2, 1.3]\n",
      "[1, 1.0, 1.2, 1.3, 10]\n"
     ]
    }
   ],
   "source": [
    "la=[1,1.0,1.2,1.3]\n",
    "lb=la.copy()\n",
    "lb.append(10)\n",
    "print(la)\n",
    "print(lb)"
   ]
  },
  {
   "cell_type": "code",
   "execution_count": 51,
   "id": "7bf4fce8-9f58-4fc2-b411-22ca1bdf2eda",
   "metadata": {},
   "outputs": [
    {
     "data": {
      "text/plain": [
       "2"
      ]
     },
     "execution_count": 51,
     "metadata": {},
     "output_type": "execute_result"
    }
   ],
   "source": [
    "lst =[1,2,20]\n",
    "lst.index(20)"
   ]
  },
  {
   "cell_type": "code",
   "execution_count": 52,
   "id": "f42c0e41-9b51-456d-80da-18c8f8e9a974",
   "metadata": {},
   "outputs": [
    {
     "data": {
      "text/plain": [
       "1"
      ]
     },
     "execution_count": 52,
     "metadata": {},
     "output_type": "execute_result"
    }
   ],
   "source": [
    "min(lst)"
   ]
  },
  {
   "cell_type": "code",
   "execution_count": 53,
   "id": "c4dec6ab-5746-4bb6-a36b-381f2032c5e2",
   "metadata": {},
   "outputs": [
    {
     "data": {
      "text/plain": [
       "20"
      ]
     },
     "execution_count": 53,
     "metadata": {},
     "output_type": "execute_result"
    }
   ],
   "source": [
    "max(lst)"
   ]
  },
  {
   "cell_type": "code",
   "execution_count": 54,
   "id": "c695fb47-2bbd-46de-99a9-8807286f0baa",
   "metadata": {},
   "outputs": [
    {
     "data": {
      "text/plain": [
       "23"
      ]
     },
     "execution_count": 54,
     "metadata": {},
     "output_type": "execute_result"
    }
   ],
   "source": [
    "lst =[1,2,20]\n",
    "sum(lst)"
   ]
  },
  {
   "cell_type": "code",
   "execution_count": null,
   "id": "9858a964-caf1-4141-90f3-528d14c4deb2",
   "metadata": {},
   "outputs": [],
   "source": []
  }
 ],
 "metadata": {
  "kernelspec": {
   "display_name": "Python 3 (ipykernel)",
   "language": "python",
   "name": "python3"
  },
  "language_info": {
   "codemirror_mode": {
    "name": "ipython",
    "version": 3
   },
   "file_extension": ".py",
   "mimetype": "text/x-python",
   "name": "python",
   "nbconvert_exporter": "python",
   "pygments_lexer": "ipython3",
   "version": "3.12.4"
  }
 },
 "nbformat": 4,
 "nbformat_minor": 5
}
