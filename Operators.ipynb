{
 "cells": [
  {
   "cell_type": "code",
   "execution_count": 8,
   "id": "f83b5d4f-8a20-44f5-b057-5410a2b397f1",
   "metadata": {},
   "outputs": [],
   "source": [
    "#Arithmetic Operator"
   ]
  },
  {
   "cell_type": "code",
   "execution_count": 1,
   "id": "51557b28-eda1-45f4-a677-ee2f24bdc690",
   "metadata": {},
   "outputs": [
    {
     "data": {
      "text/plain": [
       "10"
      ]
     },
     "execution_count": 1,
     "metadata": {},
     "output_type": "execute_result"
    }
   ],
   "source": [
    "#Addition\n",
    "4+6"
   ]
  },
  {
   "cell_type": "code",
   "execution_count": 2,
   "id": "d5f79101-9276-4de2-bfc8-b3603e20ef25",
   "metadata": {},
   "outputs": [
    {
     "data": {
      "text/plain": [
       "8"
      ]
     },
     "execution_count": 2,
     "metadata": {},
     "output_type": "execute_result"
    }
   ],
   "source": [
    "#Substration\n",
    "65 - 57"
   ]
  },
  {
   "cell_type": "code",
   "execution_count": 3,
   "id": "fd0e41ad-b72c-4091-8250-57afa848f490",
   "metadata": {},
   "outputs": [
    {
     "data": {
      "text/plain": [
       "12"
      ]
     },
     "execution_count": 3,
     "metadata": {},
     "output_type": "execute_result"
    }
   ],
   "source": [
    "#Multiplication\n",
    "3*4"
   ]
  },
  {
   "cell_type": "code",
   "execution_count": 4,
   "id": "0a3a8510-ee53-4aea-9e89-fbdd210c5af9",
   "metadata": {},
   "outputs": [
    {
     "data": {
      "text/plain": [
       "2.3333333333333335"
      ]
     },
     "execution_count": 4,
     "metadata": {},
     "output_type": "execute_result"
    }
   ],
   "source": [
    "#Division\n",
    "7/3"
   ]
  },
  {
   "cell_type": "code",
   "execution_count": 5,
   "id": "46a26cd6-89d0-4cf1-bfd3-8caabeeef334",
   "metadata": {},
   "outputs": [
    {
     "data": {
      "text/plain": [
       "160000"
      ]
     },
     "execution_count": 5,
     "metadata": {},
     "output_type": "execute_result"
    }
   ],
   "source": [
    "#power/exponent\n",
    "20**4"
   ]
  },
  {
   "cell_type": "code",
   "execution_count": 6,
   "id": "cc5d8e41-8d7c-41cf-8bd6-e6be4278a89f",
   "metadata": {},
   "outputs": [
    {
     "data": {
      "text/plain": [
       "2.75"
      ]
     },
     "execution_count": 6,
     "metadata": {},
     "output_type": "execute_result"
    }
   ],
   "source": [
    "11/4"
   ]
  },
  {
   "cell_type": "code",
   "execution_count": 7,
   "id": "611f4b8f-2991-43b6-a2b2-757872b98bc0",
   "metadata": {},
   "outputs": [
    {
     "data": {
      "text/plain": [
       "5"
      ]
     },
     "execution_count": 7,
     "metadata": {},
     "output_type": "execute_result"
    }
   ],
   "source": [
    "#floor division\n",
    "20//4"
   ]
  },
  {
   "cell_type": "code",
   "execution_count": 8,
   "id": "ca3d07a2-f28c-422d-be7c-527f1ff5d7d8",
   "metadata": {},
   "outputs": [
    {
     "data": {
      "text/plain": [
       "3"
      ]
     },
     "execution_count": 8,
     "metadata": {},
     "output_type": "execute_result"
    }
   ],
   "source": [
    "#modular/remainder\n",
    "11%4"
   ]
  },
  {
   "cell_type": "code",
   "execution_count": 9,
   "id": "36ca9437-2f1f-4879-b9b7-2676824203da",
   "metadata": {},
   "outputs": [
    {
     "data": {
      "text/plain": [
       "84"
      ]
     },
     "execution_count": 9,
     "metadata": {},
     "output_type": "execute_result"
    }
   ],
   "source": [
    "#paranthesis\n",
    "(3+4)*(6+6)"
   ]
  },
  {
   "cell_type": "code",
   "execution_count": 10,
   "id": "af34f634-8963-43cf-8b6c-05e198a51cfb",
   "metadata": {},
   "outputs": [
    {
     "name": "stdout",
     "output_type": "stream",
     "text": [
      "600\n",
      "0.6666666666666666\n",
      "20\n"
     ]
    }
   ],
   "source": [
    "#Mathematical operation with variable assignment\n",
    "a=20\n",
    "b=30\n",
    "print(a*b)\n",
    "print(a/b)\n",
    "print(a%b)"
   ]
  },
  {
   "cell_type": "code",
   "execution_count": 11,
   "id": "1803eafe-fdfe-497d-bc6c-25c3e7cc7490",
   "metadata": {},
   "outputs": [
    {
     "data": {
      "text/plain": [
       "20.0"
      ]
     },
     "execution_count": 11,
     "metadata": {},
     "output_type": "execute_result"
    }
   ],
   "source": [
    "a-b*a/b+a"
   ]
  },
  {
   "cell_type": "code",
   "execution_count": 12,
   "id": "86007269-deab-4e35-bfce-a88efa001adc",
   "metadata": {},
   "outputs": [
    {
     "data": {
      "text/plain": [
       "30"
      ]
     },
     "execution_count": 12,
     "metadata": {},
     "output_type": "execute_result"
    }
   ],
   "source": [
    "(3*(3+7))"
   ]
  },
  {
   "cell_type": "code",
   "execution_count": 13,
   "id": "cafa24c9-38b3-4d11-88e6-32a1017c3b3a",
   "metadata": {},
   "outputs": [
    {
     "data": {
      "text/plain": [
       "79"
      ]
     },
     "execution_count": 13,
     "metadata": {},
     "output_type": "execute_result"
    }
   ],
   "source": [
    "9//7%6+3**4-3"
   ]
  },
  {
   "cell_type": "code",
   "execution_count": 15,
   "id": "413d74ca-5d95-4a26-8d9c-9f753d5e0948",
   "metadata": {},
   "outputs": [
    {
     "data": {
      "text/plain": [
       "23.666666666666668"
      ]
     },
     "execution_count": 15,
     "metadata": {},
     "output_type": "execute_result"
    }
   ],
   "source": [
    "9//4*4/3+21%3**3"
   ]
  },
  {
   "cell_type": "code",
   "execution_count": 10,
   "id": "d9e1a7ed-2a1d-4e73-b059-710fbf5ec64b",
   "metadata": {},
   "outputs": [],
   "source": [
    "#Comparison operator "
   ]
  },
  {
   "cell_type": "code",
   "execution_count": 1,
   "id": "cf22dbce-a040-48bf-a0c0-17fb8a463c20",
   "metadata": {},
   "outputs": [
    {
     "data": {
      "text/plain": [
       "True"
      ]
     },
     "execution_count": 1,
     "metadata": {},
     "output_type": "execute_result"
    }
   ],
   "source": [
    "#greater than\n",
    "56>45"
   ]
  },
  {
   "cell_type": "code",
   "execution_count": 2,
   "id": "ae15a54c-34ab-418b-9ec8-b916820658b4",
   "metadata": {},
   "outputs": [
    {
     "data": {
      "text/plain": [
       "False"
      ]
     },
     "execution_count": 2,
     "metadata": {},
     "output_type": "execute_result"
    }
   ],
   "source": [
    "#less than\n",
    "67<34"
   ]
  },
  {
   "cell_type": "code",
   "execution_count": 3,
   "id": "1d2168f2-75ba-4ed9-8a88-c4962bcd5147",
   "metadata": {},
   "outputs": [
    {
     "data": {
      "text/plain": [
       "False"
      ]
     },
     "execution_count": 3,
     "metadata": {},
     "output_type": "execute_result"
    }
   ],
   "source": [
    "4*4 < 5*3"
   ]
  },
  {
   "cell_type": "code",
   "execution_count": 4,
   "id": "7a560e08-d3cc-4be8-85b2-48b71097b2b8",
   "metadata": {},
   "outputs": [
    {
     "data": {
      "text/plain": [
       "True"
      ]
     },
     "execution_count": 4,
     "metadata": {},
     "output_type": "execute_result"
    }
   ],
   "source": [
    "#equal\n",
    "56==56"
   ]
  },
  {
   "cell_type": "code",
   "execution_count": 5,
   "id": "e9921838-dfe3-46a3-9129-3049c28d8e98",
   "metadata": {},
   "outputs": [
    {
     "data": {
      "text/plain": [
       "True"
      ]
     },
     "execution_count": 5,
     "metadata": {},
     "output_type": "execute_result"
    }
   ],
   "source": [
    "#not equal\n",
    "4!=6"
   ]
  },
  {
   "cell_type": "code",
   "execution_count": 6,
   "id": "0afdf5c3-11d8-42d5-92fb-bc2160f6a483",
   "metadata": {},
   "outputs": [
    {
     "data": {
      "text/plain": [
       "True"
      ]
     },
     "execution_count": 6,
     "metadata": {},
     "output_type": "execute_result"
    }
   ],
   "source": [
    "#greater than or equal to\n",
    "2>=2"
   ]
  },
  {
   "cell_type": "code",
   "execution_count": 7,
   "id": "b63e1565-baa3-4b12-a90e-ff4ef06975b5",
   "metadata": {},
   "outputs": [
    {
     "data": {
      "text/plain": [
       "False"
      ]
     },
     "execution_count": 7,
     "metadata": {},
     "output_type": "execute_result"
    }
   ],
   "source": [
    "#less than equal to\n",
    "6<=5"
   ]
  },
  {
   "cell_type": "code",
   "execution_count": 8,
   "id": "8e8d6dbc-813e-461c-902b-c17723d7af99",
   "metadata": {},
   "outputs": [
    {
     "data": {
      "text/plain": [
       "True"
      ]
     },
     "execution_count": 8,
     "metadata": {},
     "output_type": "execute_result"
    }
   ],
   "source": [
    "56==56.0"
   ]
  },
  {
   "cell_type": "code",
   "execution_count": 9,
   "id": "96b5bb5d-09b6-475b-9fc2-81093a2bae03",
   "metadata": {},
   "outputs": [
    {
     "data": {
      "text/plain": [
       "False"
      ]
     },
     "execution_count": 9,
     "metadata": {},
     "output_type": "execute_result"
    }
   ],
   "source": [
    "'hi'=='HI'"
   ]
  },
  {
   "cell_type": "code",
   "execution_count": 9,
   "id": "8e4f99b4-7a22-41a3-9c30-3bfa3cf7ce03",
   "metadata": {},
   "outputs": [],
   "source": [
    "#Bitwise Opreator"
   ]
  },
  {
   "cell_type": "code",
   "execution_count": 10,
   "id": "f1ff7c96-cb59-4dff-ac81-d6ec6a675533",
   "metadata": {},
   "outputs": [
    {
     "data": {
      "text/plain": [
       "'0b11010011'"
      ]
     },
     "execution_count": 10,
     "metadata": {},
     "output_type": "execute_result"
    }
   ],
   "source": [
    "bin(211)"
   ]
  },
  {
   "cell_type": "code",
   "execution_count": 11,
   "id": "cf2789ff-d371-4cbc-b651-6f3ce9278533",
   "metadata": {},
   "outputs": [
    {
     "data": {
      "text/plain": [
       "42"
      ]
     },
     "execution_count": 11,
     "metadata": {},
     "output_type": "execute_result"
    }
   ],
   "source": [
    "0b101010"
   ]
  },
  {
   "cell_type": "code",
   "execution_count": 14,
   "id": "9f8a1b29-229e-42a1-b209-90685e39a441",
   "metadata": {},
   "outputs": [
    {
     "name": "stdout",
     "output_type": "stream",
     "text": [
      "6\n"
     ]
    }
   ],
   "source": [
    "#Bitwise OR\n",
    "a=4\n",
    "b=6\n",
    "print(a|b)"
   ]
  },
  {
   "cell_type": "code",
   "execution_count": 15,
   "id": "c95a873f-2057-4a92-a297-fe65a2d954b3",
   "metadata": {},
   "outputs": [
    {
     "name": "stdout",
     "output_type": "stream",
     "text": [
      "4\n"
     ]
    }
   ],
   "source": [
    "#Bitwise AND\n",
    "a=4\n",
    "b=6\n",
    "print(a&b)"
   ]
  },
  {
   "cell_type": "code",
   "execution_count": 16,
   "id": "50cb7c6d-292b-4ad2-a640-7be5c257a131",
   "metadata": {},
   "outputs": [
    {
     "data": {
      "text/plain": [
       "9"
      ]
     },
     "execution_count": 16,
     "metadata": {},
     "output_type": "execute_result"
    }
   ],
   "source": [
    "8|1"
   ]
  },
  {
   "cell_type": "code",
   "execution_count": 17,
   "id": "837704ac-2b7e-4c74-9710-a0a6121b267b",
   "metadata": {},
   "outputs": [
    {
     "data": {
      "text/plain": [
       "0"
      ]
     },
     "execution_count": 17,
     "metadata": {},
     "output_type": "execute_result"
    }
   ],
   "source": [
    "8&1"
   ]
  },
  {
   "cell_type": "code",
   "execution_count": 11,
   "id": "1bba7a40-4de4-40ea-a0d9-a927ae46befc",
   "metadata": {},
   "outputs": [],
   "source": [
    "#Logical Operator"
   ]
  },
  {
   "cell_type": "code",
   "execution_count": 18,
   "id": "efdef08a-2578-4de9-888b-3e347f6f044f",
   "metadata": {},
   "outputs": [
    {
     "data": {
      "text/plain": [
       "True"
      ]
     },
     "execution_count": 18,
     "metadata": {},
     "output_type": "execute_result"
    }
   ],
   "source": [
    "(2>3)or(3<4)"
   ]
  },
  {
   "cell_type": "code",
   "execution_count": 19,
   "id": "d61cf2d0-8663-4bb3-93e3-f152df9ffd2a",
   "metadata": {},
   "outputs": [
    {
     "data": {
      "text/plain": [
       "False"
      ]
     },
     "execution_count": 19,
     "metadata": {},
     "output_type": "execute_result"
    }
   ],
   "source": [
    "(2>3)and(3<4)"
   ]
  },
  {
   "cell_type": "code",
   "execution_count": 21,
   "id": "03ff94fb-de64-42d1-a111-9087d93254a2",
   "metadata": {},
   "outputs": [
    {
     "data": {
      "text/plain": [
       "False"
      ]
     },
     "execution_count": 21,
     "metadata": {},
     "output_type": "execute_result"
    }
   ],
   "source": [
    "not True"
   ]
  },
  {
   "cell_type": "code",
   "execution_count": 20,
   "id": "794e79d9-de00-4f55-8b14-fa2f4b7f83b4",
   "metadata": {},
   "outputs": [
    {
     "data": {
      "text/plain": [
       "True"
      ]
     },
     "execution_count": 20,
     "metadata": {},
     "output_type": "execute_result"
    }
   ],
   "source": [
    "not False"
   ]
  },
  {
   "cell_type": "code",
   "execution_count": 23,
   "id": "5cb10d02-1b36-464f-b916-04c5557f0010",
   "metadata": {},
   "outputs": [
    {
     "data": {
      "text/plain": [
       "True"
      ]
     },
     "execution_count": 23,
     "metadata": {},
     "output_type": "execute_result"
    }
   ],
   "source": [
    "my_str='aditya'\n",
    "my_str.isalpha() or str_example.isnum()"
   ]
  },
  {
   "cell_type": "code",
   "execution_count": 24,
   "id": "fb7b20e5-3a56-46a6-a3aa-c20eaf033ea4",
   "metadata": {},
   "outputs": [
    {
     "data": {
      "text/plain": [
       "True"
      ]
     },
     "execution_count": 24,
     "metadata": {},
     "output_type": "execute_result"
    }
   ],
   "source": [
    "(3==3)and(3==4)or(5==5)"
   ]
  },
  {
   "cell_type": "code",
   "execution_count": 12,
   "id": "c0259dce-dc43-476a-abb1-1d3fa318c4a1",
   "metadata": {},
   "outputs": [],
   "source": [
    "#Assignment Operator"
   ]
  },
  {
   "cell_type": "code",
   "execution_count": 3,
   "id": "171a7928-1761-4dca-886f-990d7adaac9d",
   "metadata": {},
   "outputs": [
    {
     "data": {
      "text/plain": [
       "21"
      ]
     },
     "execution_count": 3,
     "metadata": {},
     "output_type": "execute_result"
    }
   ],
   "source": [
    "a=21\n",
    "a # is a simple assignment operator that assigns the value 21 on the right to the variable a on the left."
   ]
  },
  {
   "cell_type": "code",
   "execution_count": 4,
   "id": "3dccca8c-047c-49e6-9058-0788b608886a",
   "metadata": {},
   "outputs": [
    {
     "name": "stdout",
     "output_type": "stream",
     "text": [
      "23\n"
     ]
    }
   ],
   "source": [
    "a=a+2#add AND\n",
    "print(a)"
   ]
  },
  {
   "cell_type": "code",
   "execution_count": 6,
   "id": "d61e8c99-95c0-4818-a386-7d129da532ce",
   "metadata": {},
   "outputs": [
    {
     "data": {
      "text/plain": [
       "27"
      ]
     },
     "execution_count": 6,
     "metadata": {},
     "output_type": "execute_result"
    }
   ],
   "source": [
    "a+=2\n",
    "a"
   ]
  },
  {
   "cell_type": "code",
   "execution_count": 7,
   "id": "c5b72a36-e008-47a5-96d4-76be6e602e58",
   "metadata": {},
   "outputs": [
    {
     "data": {
      "text/plain": [
       "23"
      ]
     },
     "execution_count": 7,
     "metadata": {},
     "output_type": "execute_result"
    }
   ],
   "source": [
    "a-=4\n",
    "a"
   ]
  },
  {
   "cell_type": "code",
   "execution_count": 13,
   "id": "f4844b36-e51a-4c9d-8b19-c4600003150b",
   "metadata": {},
   "outputs": [],
   "source": [
    "#Identity Operator"
   ]
  },
  {
   "cell_type": "code",
   "execution_count": 14,
   "id": "a2a8af00-0987-40f3-b842-090e33ab8ad0",
   "metadata": {},
   "outputs": [
    {
     "name": "stdout",
     "output_type": "stream",
     "text": [
      "True\n"
     ]
    }
   ],
   "source": [
    "a=6\n",
    "b=6\n",
    "print(a is b) #5 is object created once both a and b points to same objects"
   ]
  },
  {
   "cell_type": "code",
   "execution_count": 15,
   "id": "895751aa-5395-48b1-a988-5c2067bffe60",
   "metadata": {},
   "outputs": [
    {
     "name": "stdout",
     "output_type": "stream",
     "text": [
      "False\n"
     ]
    }
   ],
   "source": [
    "s1=\"aditya\"\n",
    "s2=\"Aditya\"\n",
    "print(s1 is s2)"
   ]
  },
  {
   "cell_type": "code",
   "execution_count": 16,
   "id": "a2e2ea78-f1ce-4099-a352-4987148831d6",
   "metadata": {},
   "outputs": [
    {
     "data": {
      "text/plain": [
       "True"
      ]
     },
     "execution_count": 16,
     "metadata": {},
     "output_type": "execute_result"
    }
   ],
   "source": [
    "a=7\n",
    "b=9\n",
    "a is not b"
   ]
  },
  {
   "cell_type": "code",
   "execution_count": 17,
   "id": "97571b80-cbc8-43ed-8808-80d7873fb8d8",
   "metadata": {},
   "outputs": [],
   "source": [
    "#Membership Operators"
   ]
  },
  {
   "cell_type": "code",
   "execution_count": 18,
   "id": "2b92a5ce-8b19-4670-aa63-ebfd88f56d83",
   "metadata": {},
   "outputs": [
    {
     "data": {
      "text/plain": [
       "True"
      ]
     },
     "execution_count": 18,
     "metadata": {},
     "output_type": "execute_result"
    }
   ],
   "source": [
    "a='renugopal'\n",
    "'ugo' in a"
   ]
  },
  {
   "cell_type": "code",
   "execution_count": 20,
   "id": "9f27de9e-704f-4145-993d-c08159d1b98c",
   "metadata": {},
   "outputs": [
    {
     "data": {
      "text/plain": [
       "True"
      ]
     },
     "execution_count": 20,
     "metadata": {},
     "output_type": "execute_result"
    }
   ],
   "source": [
    "lst = [2,3,4,5]\n",
    "3 in lst"
   ]
  },
  {
   "cell_type": "code",
   "execution_count": 21,
   "id": "9e2aa347-188a-4e64-837b-20ec94cf7d0e",
   "metadata": {},
   "outputs": [
    {
     "data": {
      "text/plain": [
       "True"
      ]
     },
     "execution_count": 21,
     "metadata": {},
     "output_type": "execute_result"
    }
   ],
   "source": [
    "a=[2,3,4,5,6,7]\n",
    "9 not in a"
   ]
  },
  {
   "cell_type": "code",
   "execution_count": null,
   "id": "b360e4a1-59f2-4dcd-9337-9ab74603eaef",
   "metadata": {},
   "outputs": [],
   "source": []
  }
 ],
 "metadata": {
  "kernelspec": {
   "display_name": "Python 3 (ipykernel)",
   "language": "python",
   "name": "python3"
  },
  "language_info": {
   "codemirror_mode": {
    "name": "ipython",
    "version": 3
   },
   "file_extension": ".py",
   "mimetype": "text/x-python",
   "name": "python",
   "nbconvert_exporter": "python",
   "pygments_lexer": "ipython3",
   "version": "3.12.4"
  }
 },
 "nbformat": 4,
 "nbformat_minor": 5
}
