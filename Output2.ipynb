{
 "cells": [
  {
   "cell_type": "code",
   "execution_count": 1,
   "id": "59df2175-8614-4078-947f-c1d76e6fa979",
   "metadata": {},
   "outputs": [
    {
     "name": "stdin",
     "output_type": "stream",
     "text": [
      "Enter the value of a:  60\n",
      "Enter the value of b:  5\n"
     ]
    },
    {
     "name": "stdout",
     "output_type": "stream",
     "text": [
      "ADD: 65\n",
      "Sum: 65, Diff: 55, Mult:300, Div:12.0, Mod: 0\n"
     ]
    }
   ],
   "source": [
    "a = int(input(\"Enter the value of a: \")) \n",
    "b=int(input(\"Enter the value of b: \")) \n",
    "add=a+b \n",
    "sub=a-b \n",
    "mult=a*b \n",
    "div=a/b \n",
    "mod=a%b \n",
    "print(\"ADD:\", add) \n",
    "print(\"Sum: {0}, Diff: {1}, Mult:{2}, Div:{3}, Mod: {4}\".format(add, sub,mult,div,mod))"
   ]
  },
  {
   "cell_type": "code",
   "execution_count": 3,
   "id": "c5feceef-871f-4ad1-8494-cfecec6fdb7b",
   "metadata": {},
   "outputs": [
    {
     "name": "stdout",
     "output_type": "stream",
     "text": [
      "Sum:65,Diff:55,Mult:300,Div:12.0,Mod:0\n"
     ]
    }
   ],
   "source": [
    "print(\"Sum:{},Diff:{},Mult:{},Div:{},Mod:{}\".format(add,sub,mult,div,mod))"
   ]
  },
  {
   "cell_type": "code",
   "execution_count": 5,
   "id": "246f08a3-7b1c-4238-a56c-912d37cd1654",
   "metadata": {},
   "outputs": [
    {
     "name": "stdout",
     "output_type": "stream",
     "text": [
      "Sum: 65, Diff: 55, Mult: 300, Div:       12.000000, Mod:0\n"
     ]
    }
   ],
   "source": [
    "print(\"Sum: %d, Diff: %d, Mult: %d, Div: %15.6f, Mod:%d\" % (add, sub, mult, div, mod))"
   ]
  },
  {
   "cell_type": "code",
   "execution_count": 7,
   "id": "38644b9f-1532-409f-aad3-e131cd2e7dd6",
   "metadata": {},
   "outputs": [
    {
     "name": "stdout",
     "output_type": "stream",
     "text": [
      "Sum: 65, Diff: 55,Mult: 300, Div:     12.00, Mod: 0\n"
     ]
    }
   ],
   "source": [
    "print(\"Sum: %d, Diff: %d,Mult: %d, Div: %9.2f, Mod: %d\" % (add,sub,mult,div,mod))"
   ]
  },
  {
   "cell_type": "code",
   "execution_count": 9,
   "id": "7e288fbf-7dd7-4cf9-a482-ad57c85c0530",
   "metadata": {},
   "outputs": [
    {
     "name": "stdout",
     "output_type": "stream",
     "text": [
      "sum  | Mult | Diff |  div\n",
      "65   | 300  |  55  | 12.0\n"
     ]
    }
   ],
   "source": [
    "print('{0: <4} | {2:^4} | {1:^4} | {3:>4}' .format('sum','Diff', 'Mult','div'))\n",
    "print('{0:<4} | {2:^4} | {1:^4} | {3:>4}'.format(add,sub,mult,div))"
   ]
  },
  {
   "cell_type": "code",
   "execution_count": 11,
   "id": "71c0f63b-9a44-4927-8dbe-87cce7a70b20",
   "metadata": {},
   "outputs": [
    {
     "name": "stdout",
     "output_type": "stream",
     "text": [
      "welcome to python Master Class !\n"
     ]
    }
   ],
   "source": [
    "a=\"Master Class\"\n",
    "print(f\"welcome to python {a} !\")"
   ]
  },
  {
   "cell_type": "code",
   "execution_count": 13,
   "id": "d477c337-a043-4228-be50-ac11d3dd2a90",
   "metadata": {},
   "outputs": [
    {
     "name": "stdin",
     "output_type": "stream",
     "text": [
      "Enter a company name -  CSM Technologies\n",
      " enter the number of employee -  32567\n"
     ]
    },
    {
     "name": "stdout",
     "output_type": "stream",
     "text": [
      "The name of the company is and the number of employee are  CSM Technologies 32567\n"
     ]
    }
   ],
   "source": [
    "f = input(\"Enter a company name - \")\n",
    "g = input (\" enter the number of employee - \")\n",
    "print(\"The name of the company is and the number of employee are \",f,g)"
   ]
  },
  {
   "cell_type": "code",
   "execution_count": 15,
   "id": "13e2c2c1-5c2a-472d-9376-044bade39738",
   "metadata": {},
   "outputs": [
    {
     "name": "stdout",
     "output_type": "stream",
     "text": [
      " The name of the company is CSM Technologies and the number of employees are  32567\n"
     ]
    }
   ],
   "source": [
    "print(\" The name of the company is\" ,f,\"and the number of employees are \",g,)"
   ]
  },
  {
   "cell_type": "code",
   "execution_count": 19,
   "id": "f16f8323-5b8f-49e3-a220-09234a7b16b9",
   "metadata": {},
   "outputs": [
    {
     "name": "stdout",
     "output_type": "stream",
     "text": [
      "The name of the company is CSM Technologies and the number of employee are 32567\n"
     ]
    }
   ],
   "source": [
    "print(f\"The name of the company is {f} and the number of employee are {g}\")"
   ]
  },
  {
   "cell_type": "code",
   "execution_count": null,
   "id": "3e718662-bc24-46f8-9939-07f7dd0c4f79",
   "metadata": {},
   "outputs": [],
   "source": []
  }
 ],
 "metadata": {
  "kernelspec": {
   "display_name": "Python 3 (ipykernel)",
   "language": "python",
   "name": "python3"
  },
  "language_info": {
   "codemirror_mode": {
    "name": "ipython",
    "version": 3
   },
   "file_extension": ".py",
   "mimetype": "text/x-python",
   "name": "python",
   "nbconvert_exporter": "python",
   "pygments_lexer": "ipython3",
   "version": "3.12.4"
  }
 },
 "nbformat": 4,
 "nbformat_minor": 5
}
