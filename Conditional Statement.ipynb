{
 "cells": [
  {
   "cell_type": "code",
   "execution_count": 1,
   "id": "1ed286fc-ecac-410c-95f7-73e7f81e98ad",
   "metadata": {},
   "outputs": [
    {
     "name": "stdout",
     "output_type": "stream",
     "text": [
      "Hello\n",
      "pratik\n"
     ]
    }
   ],
   "source": [
    "if 1<2:\n",
    "    print('Hello')\n",
    "    print('pratik')"
   ]
  },
  {
   "cell_type": "code",
   "execution_count": 2,
   "id": "08d78bea-1ac1-4507-82cb-190ebe49dd10",
   "metadata": {},
   "outputs": [
    {
     "name": "stdout",
     "output_type": "stream",
     "text": [
      "hello!\n"
     ]
    }
   ],
   "source": [
    "if 10<20:\n",
    "    print('hello!')"
   ]
  },
  {
   "cell_type": "code",
   "execution_count": 3,
   "id": "669ff5ec-c0ea-4b72-96f2-4634ca6cfb03",
   "metadata": {},
   "outputs": [
    {
     "name": "stdout",
     "output_type": "stream",
     "text": [
      "hello!\n"
     ]
    }
   ],
   "source": [
    "if 10<20:\n",
    "    print('hello!')"
   ]
  },
  {
   "cell_type": "code",
   "execution_count": 4,
   "id": "c1186aba-ee08-41b7-9a51-d5cafc40c71d",
   "metadata": {},
   "outputs": [
    {
     "name": "stdout",
     "output_type": "stream",
     "text": [
      "hello!\n",
      "Pratik\n"
     ]
    }
   ],
   "source": [
    "if 10<20:\n",
    "    print('hello!')\n",
    "    \n",
    "print(\"Pratik\")"
   ]
  },
  {
   "cell_type": "code",
   "execution_count": 6,
   "id": "e2ba7f93-52c1-475b-a028-ab8c32ba8696",
   "metadata": {},
   "outputs": [
    {
     "name": "stdin",
     "output_type": "stream",
     "text": [
      "enter name: aditya\n"
     ]
    },
    {
     "name": "stdout",
     "output_type": "stream",
     "text": [
      "Hello Aditya Good Morning\n"
     ]
    }
   ],
   "source": [
    "name=input(\"enter name:\")\n",
    "if name==\"aditya\":\n",
    "    print(\"Hello Aditya Good Morning\")"
   ]
  },
  {
   "cell_type": "code",
   "execution_count": 7,
   "id": "6d6b9acd-9849-47ed-9a81-83addf8bd4e7",
   "metadata": {},
   "outputs": [
    {
     "name": "stdout",
     "output_type": "stream",
     "text": [
      "first\n"
     ]
    }
   ],
   "source": [
    "if 10<20:\n",
    "    print('first')\n",
    "else:\n",
    "    print('last')"
   ]
  },
  {
   "cell_type": "code",
   "execution_count": 8,
   "id": "e6fbfbc4-bcdf-4da3-b013-6a5bc9828e0a",
   "metadata": {},
   "outputs": [
    {
     "name": "stdout",
     "output_type": "stream",
     "text": [
      "last\n"
     ]
    }
   ],
   "source": [
    "if 10>20:\n",
    "    print('first')\n",
    "else:\n",
    "    print('last')"
   ]
  },
  {
   "cell_type": "code",
   "execution_count": 9,
   "id": "aa62ea39-2724-4e52-a7f5-5a650e89d5b3",
   "metadata": {},
   "outputs": [
    {
     "name": "stdin",
     "output_type": "stream",
     "text": [
      "enter a number 123654789\n"
     ]
    },
    {
     "name": "stdout",
     "output_type": "stream",
     "text": [
      "123654789 is odd number\n"
     ]
    }
   ],
   "source": [
    "x=int(input('enter a number'))\n",
    "if(x%2==0):\n",
    "    print(x,'is even number')\n",
    "else:\n",
    "    print(x,'is odd number')"
   ]
  },
  {
   "cell_type": "code",
   "execution_count": 10,
   "id": "4fd5d8bf-5bad-47c9-89f5-b63ac557a069",
   "metadata": {},
   "outputs": [
    {
     "name": "stdin",
     "output_type": "stream",
     "text": [
      "Enter Name: gourav\n"
     ]
    },
    {
     "name": "stdout",
     "output_type": "stream",
     "text": [
      "Hello Null Good Morning\n"
     ]
    }
   ],
   "source": [
    "name=input(\"Enter Name:\") \n",
    "if name==\"Aditya\":\n",
    "    print(\"hello Aditya good morning\")\n",
    "else: \n",
    "    print(\"Hello Null Good Morning\")"
   ]
  },
  {
   "cell_type": "code",
   "execution_count": 11,
   "id": "67683e81-91e3-4ffc-8caa-a294ace39ac6",
   "metadata": {},
   "outputs": [
    {
     "name": "stdout",
     "output_type": "stream",
     "text": [
      "AI\n",
      "ML\n"
     ]
    }
   ],
   "source": [
    "lst = ['one', 'two', 'three', 'four'] \n",
    "if 'two' in lst:\n",
    "    print('AI') \n",
    "if 'six' not in lst:\n",
    "    print('ML') "
   ]
  },
  {
   "cell_type": "code",
   "execution_count": 12,
   "id": "135a8760-2290-4621-86b7-397aefe1ca38",
   "metadata": {},
   "outputs": [
    {
     "data": {
      "text/plain": [
       "['one', 'two', 'three', 'four']"
      ]
     },
     "execution_count": 12,
     "metadata": {},
     "output_type": "execute_result"
    }
   ],
   "source": [
    "\n",
    "lst"
   ]
  },
  {
   "cell_type": "code",
   "execution_count": 13,
   "id": "6eb4e107-829d-4883-896d-d85a6ba4e85d",
   "metadata": {},
   "outputs": [
    {
     "name": "stdin",
     "output_type": "stream",
     "text": [
      " 20\n"
     ]
    },
    {
     "name": "stdout",
     "output_type": "stream",
     "text": [
      "20 is positive num\n"
     ]
    }
   ],
   "source": [
    "a=int(input())\n",
    "if (a>=0):\n",
    "    print(a,'is positive num')\n",
    "else:\n",
    "    print(a,'is negative num')"
   ]
  },
  {
   "cell_type": "code",
   "execution_count": 14,
   "id": "76cfb375-71c0-441e-9eee-6d62ce0a694b",
   "metadata": {},
   "outputs": [
    {
     "name": "stdout",
     "output_type": "stream",
     "text": [
      "8 is even number\n",
      "this is out of if else block\n"
     ]
    }
   ],
   "source": [
    "h=8\n",
    "if h%2==0:\n",
    "    print(h,\"is even number\")\n",
    "else: \n",
    "    print(h,\" ic odd number\")\n",
    "print(\"this is out of if else block\")"
   ]
  },
  {
   "cell_type": "code",
   "execution_count": 15,
   "id": "84657b98-e2db-475a-b67a-e4adbab2113d",
   "metadata": {},
   "outputs": [
    {
     "name": "stdout",
     "output_type": "stream",
     "text": [
      "first\n"
     ]
    }
   ],
   "source": [
    "if 2==2:\n",
    "    print('first')\n",
    "elif 3==3:\n",
    "    print('middle')"
   ]
  },
  {
   "cell_type": "code",
   "execution_count": 17,
   "id": "7f2d2d6c-1ee8-4f7a-969d-3640badb00cd",
   "metadata": {},
   "outputs": [
    {
     "name": "stdout",
     "output_type": "stream",
     "text": [
      "grade B\n"
     ]
    }
   ],
   "source": [
    "y = 82\n",
    "if y>90:\n",
    "    print(\"grade A\")\n",
    "elif(y>60):\n",
    "    print(\"grade B\")\n",
    "elif y>40:\n",
    "    print(\"grade C\")\n",
    "else:\n",
    "    print(\"grade F\")"
   ]
  },
  {
   "cell_type": "code",
   "execution_count": 18,
   "id": "0922df3f-b7cb-42e0-8f5a-6679270f35b2",
   "metadata": {},
   "outputs": [
    {
     "name": "stdout",
     "output_type": "stream",
     "text": [
      "i am in elif block\n",
      "x is nagative\n"
     ]
    }
   ],
   "source": [
    "x=-70.99\n",
    "if ((x>0) or (x==-100)):\n",
    "    print(\"x is Positive value or -100\")\n",
    "    print(\"I am if loop\")\n",
    "elif (x<0):\n",
    "    print(\"i am in elif block\")\n",
    "    print(\"x is nagative\")\n",
    "else:\n",
    "    print(\"x is zero\")"
   ]
  },
  {
   "cell_type": "code",
   "execution_count": 19,
   "id": "e09a0628-f080-40bc-a2d0-f5caab064992",
   "metadata": {},
   "outputs": [
    {
     "name": "stdout",
     "output_type": "stream",
     "text": [
      "nagative\n",
      "i am out of if block\n"
     ]
    }
   ],
   "source": [
    "x=-80\n",
    "if x>0:\n",
    "    print(\"positive\")\n",
    "    print(\" hello\")\n",
    "elif x==0:\n",
    "    print('zero')\n",
    "else:\n",
    "    print('nagative')\n",
    "print(\"i am out of if block\")"
   ]
  },
  {
   "cell_type": "code",
   "execution_count": 20,
   "id": "66486e42-e4e8-4b51-9146-c9861dcf60d5",
   "metadata": {},
   "outputs": [
    {
     "name": "stdin",
     "output_type": "stream",
     "text": [
      "Enter Your Favourite Brand: RC\n"
     ]
    },
    {
     "name": "stdout",
     "output_type": "stream",
     "text": [
      "It is childrens brand\n"
     ]
    }
   ],
   "source": [
    "brand=input(\"Enter Your Favourite Brand:\") \n",
    "if brand==\"RC\":\n",
    "    print(\"It is childrens brand\") \n",
    "elif brand==\"KF\":\n",
    "    print(\"It is not that much kick\") \n",
    "elif brand==\"FO\":\n",
    "    print(\"Buy one get Free One\") \n",
    "elif brand==\"RC\" :\n",
    "    print(\"It is brand\") \n",
    "else : \n",
    "    print(\"Other Brands are not recommended\") "
   ]
  },
  {
   "cell_type": "code",
   "execution_count": 21,
   "id": "c8d54c9d-55ab-48d3-a225-1c7796fe31e0",
   "metadata": {},
   "outputs": [
    {
     "name": "stdout",
     "output_type": "stream",
     "text": [
      "All is well with the world\n"
     ]
    },
    {
     "name": "stderr",
     "output_type": "stream",
     "text": [
      "<>:1: SyntaxWarning: \"is\" with 'int' literal. Did you mean \"==\"?\n",
      "<>:1: SyntaxWarning: \"is\" with 'int' literal. Did you mean \"==\"?\n",
      "C:\\Users\\indra\\AppData\\Local\\Temp\\ipykernel_10212\\2937615283.py:1: SyntaxWarning: \"is\" with 'int' literal. Did you mean \"==\"?\n",
      "  if 1 is 3:\n"
     ]
    }
   ],
   "source": [
    "if 1 is 3: \n",
    "    print(\"How did that happen?\") \n",
    "elif 1 > 3: \n",
    "    print(\"Yikes\") \n",
    "else: \n",
    "    print(\"All is well with the world\")"
   ]
  },
  {
   "cell_type": "code",
   "execution_count": 22,
   "id": "7d085a8e-4a3e-42a7-8ab0-76654553e067",
   "metadata": {},
   "outputs": [
    {
     "name": "stdin",
     "output_type": "stream",
     "text": [
      "enter marks: 79\n"
     ]
    },
    {
     "name": "stdout",
     "output_type": "stream",
     "text": [
      "79 B grade\n"
     ]
    }
   ],
   "source": [
    "a=int(float(input('enter marks:'))) \n",
    "if (a>85 and a<=100):\n",
    "    print(a,' A grade') \n",
    "elif (a<=85 and a>75): \n",
    "    print(a, 'B grade') \n",
    "elif (a<=75 and a>65): \n",
    "    print(a, 'C grade') \n",
    "elif (a<=65 and a>55): \n",
    "    print(a, 'D grade')\n",
    "elif (a<=55 and a>45): \n",
    "    print(a, 'E grade') \n",
    "else: \n",
    "    print(a, 'Fail') "
   ]
  },
  {
   "cell_type": "code",
   "execution_count": 23,
   "id": "bf811290-95cc-4627-afd0-727422500054",
   "metadata": {},
   "outputs": [
    {
     "name": "stdin",
     "output_type": "stream",
     "text": [
      "Enter First Number: 20\n",
      "Enter Second Number: 40\n",
      "Enter Third Number: 60\n"
     ]
    },
    {
     "name": "stdout",
     "output_type": "stream",
     "text": [
      "60 is the Largest\n"
     ]
    }
   ],
   "source": [
    "n1=int(input(\"Enter First Number:\"))\n",
    "\n",
    "n2=int(input(\"Enter Second Number:\"))\n",
    "\n",
    "n3=int(input(\"Enter Third Number:\"))\n",
    "\n",
    "if n1>n2 and n1>n3:\n",
    "\n",
    "    print(n1,\"is the Largest\")\n",
    "\n",
    "elif n2>n3:\n",
    "\n",
    "    print(n2, \"is the Largest\")\n",
    "\n",
    "else:\n",
    "\n",
    "    print(n3, \"is the Largest\")"
   ]
  },
  {
   "cell_type": "code",
   "execution_count": 24,
   "id": "34ea01a2-c213-4203-b92a-0f0e8f889df5",
   "metadata": {},
   "outputs": [
    {
     "name": "stdin",
     "output_type": "stream",
     "text": [
      "Enter First Number: 50\n",
      "Enter Second Number: 100\n"
     ]
    },
    {
     "name": "stdout",
     "output_type": "stream",
     "text": [
      "Biggest Number is: 100\n"
     ]
    }
   ],
   "source": [
    "n1=int(input(\"Enter First Number:\"))\n",
    "\n",
    "n2=int(input(\"Enter Second Number:\"))\n",
    "\n",
    "if n1>n2:\n",
    "\n",
    "    print(\"Biggest Number is:\", n1)\n",
    "\n",
    "else:\n",
    "\n",
    "    print(\"Biggest Number is:\",n2)"
   ]
  },
  {
   "cell_type": "code",
   "execution_count": 25,
   "id": "998edb22-b945-434e-9830-8a95d2dde37d",
   "metadata": {},
   "outputs": [
    {
     "name": "stdin",
     "output_type": "stream",
     "text": [
      "Enter first string: my life\n",
      "Enter Second string: my style\n"
     ]
    },
    {
     "name": "stdout",
     "output_type": "stream",
     "text": [
      "First String is less than Second String\n"
     ]
    }
   ],
   "source": [
    "s1=input(\"Enter first string:\")\n",
    "\n",
    "s2=input(\"Enter Second string:\")\n",
    "if s1==s2: \n",
    "    print(\"Both strings are equal\")\n",
    "elif s1<s2:\n",
    "    print(\"First String is less than Second String\")\n",
    "else:\n",
    "    print(\"First String isgreater than Second String\")"
   ]
  },
  {
   "cell_type": "code",
   "execution_count": 26,
   "id": "d48a87ab-5945-4579-86ee-848dcab64915",
   "metadata": {},
   "outputs": [
    {
     "name": "stdout",
     "output_type": "stream",
     "text": [
      "Negative number\n"
     ]
    }
   ],
   "source": [
    "num =18\n",
    "if num >=0:\n",
    "    if num == 0:\n",
    "        print(\"not\")\n",
    "    else:\n",
    "        print(\"Negative number\")\n",
    "else:\n",
    "    print(\"Positive Number\")"
   ]
  },
  {
   "cell_type": "code",
   "execution_count": 29,
   "id": "be0fe97b-3f8b-406c-9e2a-ecc8bbfbaf18",
   "metadata": {},
   "outputs": [
    {
     "name": "stdin",
     "output_type": "stream",
     "text": [
      "enter your pin 2002\n"
     ]
    },
    {
     "name": "stdout",
     "output_type": "stream",
     "text": [
      "invalid pin number\n"
     ]
    }
   ],
   "source": [
    "if (int(input('enter your pin'))==1234): \n",
    "    with_draw=int(input('with draw amount:')) \n",
    "    if (with_draw<=amount): \n",
    "          print(with_draw,' successfully tranasaction complted')\n",
    "    else:\n",
    "        print (with_draw,' not sufficiant funds in your account')\n",
    "else:\n",
    "    print('invalid pin number')\n"
   ]
  },
  {
   "cell_type": "code",
   "execution_count": 28,
   "id": "4560e781-1b21-4700-a747-dc2ae9e04f5e",
   "metadata": {},
   "outputs": [
    {
     "name": "stdin",
     "output_type": "stream",
     "text": [
      "enter your pin 1234\n",
      "with draw amount: 3000000\n"
     ]
    },
    {
     "name": "stdout",
     "output_type": "stream",
     "text": [
      "3000000  successfully tranasaction complted\n"
     ]
    }
   ],
   "source": [
    "amount=4000000\n",
    "pin=1234\n",
    "if (int(input('enter your pin'))==1234): \n",
    "    with_draw=int(input('with draw amount:')) \n",
    "    if (with_draw<=amount): \n",
    "          print(with_draw,' successfully tranasaction complted')\n",
    "    else:\n",
    "        print (with_draw,' not sufficiant funds in your account')\n",
    "else:\n",
    "    print('invalid pin number')"
   ]
  },
  {
   "cell_type": "code",
   "execution_count": null,
   "id": "bb8613a4-3467-45f9-bd99-b0e52718ecae",
   "metadata": {},
   "outputs": [],
   "source": []
  }
 ],
 "metadata": {
  "kernelspec": {
   "display_name": "Python 3 (ipykernel)",
   "language": "python",
   "name": "python3"
  },
  "language_info": {
   "codemirror_mode": {
    "name": "ipython",
    "version": 3
   },
   "file_extension": ".py",
   "mimetype": "text/x-python",
   "name": "python",
   "nbconvert_exporter": "python",
   "pygments_lexer": "ipython3",
   "version": "3.12.4"
  }
 },
 "nbformat": 4,
 "nbformat_minor": 5
}
